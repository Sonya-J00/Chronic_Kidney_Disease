{
  "cells": [
    {
      "cell_type": "markdown",
      "metadata": {
        "id": "0aStgWSO0E0E"
      },
      "source": [
        "# Import, Cleaning and Transformation of the Chronic Kidney Disease Dataset"
      ]
    },
    {
      "cell_type": "markdown",
      "metadata": {
        "id": "1eLEkw5O0ECa"
      },
      "source": [
        "## Objectives\n",
        "\n",
        "* To import raw data; clean; transform and save the new DataFrame(s) to be used for visualisations\n",
        "\n",
        "## Inputs\n",
        "\n",
        "* The dataset was downloaded from [kaggle](https://www.kaggle.com/datasets/rabieelkharoua/chronic-kidney-disease-dataset-analysis/data)\n",
        "* The data file is located C:\\Users\\sonia\\Documents\\VS Studio Projects\\Chronic_Kidney_Disease\\Dataset\\Raw \n",
        "\n",
        "## Outputs\n",
        "\n",
        "* Write here which files, code or artefacts you generate by the end of the notebook \n",
        "\n",
        "## Additional Comments\n",
        "\n",
        "* If you have any additional comments that don't fit in the previous bullets, please state them here. \n",
        "\n"
      ]
    },
    {
      "cell_type": "markdown",
      "metadata": {
        "id": "9uWZXH9LwoQg"
      },
      "source": [
        "---"
      ]
    },
    {
      "cell_type": "markdown",
      "metadata": {
        "id": "cqP-UeN-z3i2"
      },
      "source": [
        "# Change working directory"
      ]
    },
    {
      "cell_type": "markdown",
      "metadata": {},
      "source": [
        "* We are assuming you will store the notebooks in a subfolder, therefore when running the notebook in the editor, you will need to change the working directory"
      ]
    },
    {
      "cell_type": "markdown",
      "metadata": {
        "id": "aOGIGS-uz3i2"
      },
      "source": [
        "We need to change the working directory from its current folder to its parent folder\n",
        "* We access the current directory with os.getcwd()"
      ]
    },
    {
      "cell_type": "code",
      "execution_count": 1,
      "metadata": {
        "id": "wZfF_j-Bz3i4",
        "outputId": "66943449-1436-4c3d-85c7-b85f9f78349b"
      },
      "outputs": [
        {
          "data": {
            "text/plain": [
              "'c:\\\\Users\\\\sonia\\\\Documents\\\\VS Studio Projects\\\\Chronic_Kidney_Disease\\\\jupyter_notebooks'"
            ]
          },
          "execution_count": 1,
          "metadata": {},
          "output_type": "execute_result"
        }
      ],
      "source": [
        "import os\n",
        "current_dir = os.getcwd()\n",
        "current_dir"
      ]
    },
    {
      "cell_type": "markdown",
      "metadata": {
        "id": "9MWW8E7lz3i7"
      },
      "source": [
        "We want to make the parent of the current directory the new current directory\n",
        "* os.path.dirname() gets the parent directory\n",
        "* os.chir() defines the new current directory"
      ]
    },
    {
      "cell_type": "code",
      "execution_count": 2,
      "metadata": {
        "id": "TwHsQRWjz3i9",
        "outputId": "86849db3-cd2f-4cc5-ebb8-2d0caafa1a2c"
      },
      "outputs": [
        {
          "name": "stdout",
          "output_type": "stream",
          "text": [
            "You set a new current directory\n"
          ]
        }
      ],
      "source": [
        "os.chdir(os.path.dirname(current_dir))\n",
        "print(\"You set a new current directory\")"
      ]
    },
    {
      "cell_type": "markdown",
      "metadata": {
        "id": "M_xPk_Ijz3i-"
      },
      "source": [
        "Confirm the new current directory"
      ]
    },
    {
      "cell_type": "code",
      "execution_count": 3,
      "metadata": {
        "id": "vz3S-_kjz3jA",
        "outputId": "00b79ae4-75d0-4a96-d193-ac9ef9847ea2"
      },
      "outputs": [
        {
          "data": {
            "text/plain": [
              "'c:\\\\Users\\\\sonia\\\\Documents\\\\VS Studio Projects\\\\Chronic_Kidney_Disease'"
            ]
          },
          "execution_count": 3,
          "metadata": {},
          "output_type": "execute_result"
        }
      ],
      "source": [
        "current_dir = os.getcwd()\n",
        "current_dir"
      ]
    },
    {
      "cell_type": "markdown",
      "metadata": {
        "id": "-mavJ8DibrcQ"
      },
      "source": [
        "# Import Data"
      ]
    },
    {
      "cell_type": "markdown",
      "metadata": {},
      "source": [
        "To begin, I will import Numpy and Pandas before I import the dataset using Pandas."
      ]
    },
    {
      "cell_type": "code",
      "execution_count": 4,
      "metadata": {},
      "outputs": [],
      "source": [
        "import numpy as np\n",
        "import pandas as pd"
      ]
    },
    {
      "cell_type": "code",
      "execution_count": 7,
      "metadata": {},
      "outputs": [
        {
          "data": {
            "text/html": [
              "<div>\n",
              "<style scoped>\n",
              "    .dataframe tbody tr th:only-of-type {\n",
              "        vertical-align: middle;\n",
              "    }\n",
              "\n",
              "    .dataframe tbody tr th {\n",
              "        vertical-align: top;\n",
              "    }\n",
              "\n",
              "    .dataframe thead th {\n",
              "        text-align: right;\n",
              "    }\n",
              "</style>\n",
              "<table border=\"1\" class=\"dataframe\">\n",
              "  <thead>\n",
              "    <tr style=\"text-align: right;\">\n",
              "      <th></th>\n",
              "      <th>PatientID</th>\n",
              "      <th>Age</th>\n",
              "      <th>Gender</th>\n",
              "      <th>Ethnicity</th>\n",
              "      <th>SocioeconomicStatus</th>\n",
              "      <th>EducationLevel</th>\n",
              "      <th>BMI</th>\n",
              "      <th>Smoking</th>\n",
              "      <th>AlcoholConsumption</th>\n",
              "      <th>PhysicalActivity</th>\n",
              "      <th>...</th>\n",
              "      <th>Itching</th>\n",
              "      <th>QualityOfLifeScore</th>\n",
              "      <th>HeavyMetalsExposure</th>\n",
              "      <th>OccupationalExposureChemicals</th>\n",
              "      <th>WaterQuality</th>\n",
              "      <th>MedicalCheckupsFrequency</th>\n",
              "      <th>MedicationAdherence</th>\n",
              "      <th>HealthLiteracy</th>\n",
              "      <th>Diagnosis</th>\n",
              "      <th>DoctorInCharge</th>\n",
              "    </tr>\n",
              "  </thead>\n",
              "  <tbody>\n",
              "    <tr>\n",
              "      <th>0</th>\n",
              "      <td>1</td>\n",
              "      <td>71</td>\n",
              "      <td>0</td>\n",
              "      <td>0</td>\n",
              "      <td>0</td>\n",
              "      <td>2</td>\n",
              "      <td>31.069414</td>\n",
              "      <td>1</td>\n",
              "      <td>5.128112</td>\n",
              "      <td>1.676220</td>\n",
              "      <td>...</td>\n",
              "      <td>7.556302</td>\n",
              "      <td>76.076800</td>\n",
              "      <td>0</td>\n",
              "      <td>0</td>\n",
              "      <td>1</td>\n",
              "      <td>1.018824</td>\n",
              "      <td>4.966808</td>\n",
              "      <td>9.871449</td>\n",
              "      <td>1</td>\n",
              "      <td>Confidential</td>\n",
              "    </tr>\n",
              "    <tr>\n",
              "      <th>1</th>\n",
              "      <td>2</td>\n",
              "      <td>34</td>\n",
              "      <td>0</td>\n",
              "      <td>0</td>\n",
              "      <td>1</td>\n",
              "      <td>3</td>\n",
              "      <td>29.692119</td>\n",
              "      <td>1</td>\n",
              "      <td>18.609552</td>\n",
              "      <td>8.377574</td>\n",
              "      <td>...</td>\n",
              "      <td>6.836766</td>\n",
              "      <td>40.128498</td>\n",
              "      <td>0</td>\n",
              "      <td>0</td>\n",
              "      <td>0</td>\n",
              "      <td>3.923538</td>\n",
              "      <td>8.189275</td>\n",
              "      <td>7.161765</td>\n",
              "      <td>1</td>\n",
              "      <td>Confidential</td>\n",
              "    </tr>\n",
              "    <tr>\n",
              "      <th>2</th>\n",
              "      <td>3</td>\n",
              "      <td>80</td>\n",
              "      <td>1</td>\n",
              "      <td>1</td>\n",
              "      <td>0</td>\n",
              "      <td>1</td>\n",
              "      <td>37.394822</td>\n",
              "      <td>1</td>\n",
              "      <td>11.882429</td>\n",
              "      <td>9.607401</td>\n",
              "      <td>...</td>\n",
              "      <td>2.144722</td>\n",
              "      <td>92.872842</td>\n",
              "      <td>0</td>\n",
              "      <td>1</td>\n",
              "      <td>1</td>\n",
              "      <td>1.429906</td>\n",
              "      <td>7.624028</td>\n",
              "      <td>7.354632</td>\n",
              "      <td>1</td>\n",
              "      <td>Confidential</td>\n",
              "    </tr>\n",
              "    <tr>\n",
              "      <th>3</th>\n",
              "      <td>4</td>\n",
              "      <td>40</td>\n",
              "      <td>0</td>\n",
              "      <td>2</td>\n",
              "      <td>0</td>\n",
              "      <td>1</td>\n",
              "      <td>31.329680</td>\n",
              "      <td>0</td>\n",
              "      <td>16.020165</td>\n",
              "      <td>0.408871</td>\n",
              "      <td>...</td>\n",
              "      <td>7.077188</td>\n",
              "      <td>90.080321</td>\n",
              "      <td>0</td>\n",
              "      <td>0</td>\n",
              "      <td>0</td>\n",
              "      <td>3.226416</td>\n",
              "      <td>3.282688</td>\n",
              "      <td>6.629587</td>\n",
              "      <td>1</td>\n",
              "      <td>Confidential</td>\n",
              "    </tr>\n",
              "    <tr>\n",
              "      <th>4</th>\n",
              "      <td>5</td>\n",
              "      <td>43</td>\n",
              "      <td>0</td>\n",
              "      <td>1</td>\n",
              "      <td>1</td>\n",
              "      <td>2</td>\n",
              "      <td>23.726311</td>\n",
              "      <td>0</td>\n",
              "      <td>7.944146</td>\n",
              "      <td>0.780319</td>\n",
              "      <td>...</td>\n",
              "      <td>3.553118</td>\n",
              "      <td>5.258372</td>\n",
              "      <td>0</td>\n",
              "      <td>0</td>\n",
              "      <td>1</td>\n",
              "      <td>0.285466</td>\n",
              "      <td>3.849498</td>\n",
              "      <td>1.437385</td>\n",
              "      <td>1</td>\n",
              "      <td>Confidential</td>\n",
              "    </tr>\n",
              "  </tbody>\n",
              "</table>\n",
              "<p>5 rows × 54 columns</p>\n",
              "</div>"
            ],
            "text/plain": [
              "   PatientID  Age  Gender  Ethnicity  SocioeconomicStatus  EducationLevel  \\\n",
              "0          1   71       0          0                    0               2   \n",
              "1          2   34       0          0                    1               3   \n",
              "2          3   80       1          1                    0               1   \n",
              "3          4   40       0          2                    0               1   \n",
              "4          5   43       0          1                    1               2   \n",
              "\n",
              "         BMI  Smoking  AlcoholConsumption  PhysicalActivity  ...   Itching  \\\n",
              "0  31.069414        1            5.128112          1.676220  ...  7.556302   \n",
              "1  29.692119        1           18.609552          8.377574  ...  6.836766   \n",
              "2  37.394822        1           11.882429          9.607401  ...  2.144722   \n",
              "3  31.329680        0           16.020165          0.408871  ...  7.077188   \n",
              "4  23.726311        0            7.944146          0.780319  ...  3.553118   \n",
              "\n",
              "   QualityOfLifeScore  HeavyMetalsExposure  OccupationalExposureChemicals  \\\n",
              "0           76.076800                    0                              0   \n",
              "1           40.128498                    0                              0   \n",
              "2           92.872842                    0                              1   \n",
              "3           90.080321                    0                              0   \n",
              "4            5.258372                    0                              0   \n",
              "\n",
              "   WaterQuality  MedicalCheckupsFrequency  MedicationAdherence  \\\n",
              "0             1                  1.018824             4.966808   \n",
              "1             0                  3.923538             8.189275   \n",
              "2             1                  1.429906             7.624028   \n",
              "3             0                  3.226416             3.282688   \n",
              "4             1                  0.285466             3.849498   \n",
              "\n",
              "   HealthLiteracy  Diagnosis  DoctorInCharge  \n",
              "0        9.871449          1    Confidential  \n",
              "1        7.161765          1    Confidential  \n",
              "2        7.354632          1    Confidential  \n",
              "3        6.629587          1    Confidential  \n",
              "4        1.437385          1    Confidential  \n",
              "\n",
              "[5 rows x 54 columns]"
            ]
          },
          "execution_count": 7,
          "metadata": {},
          "output_type": "execute_result"
        }
      ],
      "source": [
        "df = pd.read_csv(\"Dataset/Raw/Chronic_Kidney_Disease_data.csv\")\n",
        "df.head()"
      ]
    },
    {
      "cell_type": "markdown",
      "metadata": {
        "id": "ZY3l0-AxO93d"
      },
      "source": [
        "---"
      ]
    },
    {
      "cell_type": "markdown",
      "metadata": {
        "id": "uFQo3ycuO-v6"
      },
      "source": [
        "# Section 2"
      ]
    },
    {
      "cell_type": "markdown",
      "metadata": {},
      "source": [
        "Section 2 content"
      ]
    },
    {
      "cell_type": "code",
      "execution_count": null,
      "metadata": {},
      "outputs": [],
      "source": []
    },
    {
      "cell_type": "markdown",
      "metadata": {},
      "source": [
        "---"
      ]
    },
    {
      "cell_type": "markdown",
      "metadata": {},
      "source": [
        "NOTE"
      ]
    },
    {
      "cell_type": "markdown",
      "metadata": {},
      "source": [
        "* You may add as many sections as you want, as long as it supports your project workflow.\n",
        "* All notebook's cells should be run top-down (you can't create a dynamic wherein a given point you need to go back to a previous cell to execute some task, like go back to a previous cell and refresh a variable content)"
      ]
    },
    {
      "cell_type": "markdown",
      "metadata": {},
      "source": [
        "---"
      ]
    },
    {
      "cell_type": "markdown",
      "metadata": {
        "id": "ltNetd085qHf"
      },
      "source": [
        "# Push files to Repo"
      ]
    },
    {
      "cell_type": "markdown",
      "metadata": {},
      "source": [
        "* In cases where you don't need to push files to Repo, you may replace this section with \"Conclusions and Next Steps\" and state your conclusions and next steps."
      ]
    },
    {
      "cell_type": "code",
      "execution_count": null,
      "metadata": {
        "id": "aKlnIozA4eQO",
        "outputId": "fd09bc1f-adb1-4511-f6ce-492a6af570c0"
      },
      "outputs": [],
      "source": [
        "import os\n",
        "try:\n",
        "  # create your folder here\n",
        "  # os.makedirs(name='')\n",
        "except Exception as e:\n",
        "  print(e)\n"
      ]
    }
  ],
  "metadata": {
    "accelerator": "GPU",
    "colab": {
      "name": "Data Practitioner Jupyter Notebook.ipynb",
      "provenance": [],
      "toc_visible": true
    },
    "kernelspec": {
      "display_name": ".venv (3.12.8)",
      "language": "python",
      "name": "python3"
    },
    "language_info": {
      "codemirror_mode": {
        "name": "ipython",
        "version": 3
      },
      "file_extension": ".py",
      "mimetype": "text/x-python",
      "name": "python",
      "nbconvert_exporter": "python",
      "pygments_lexer": "ipython3",
      "version": "3.12.8"
    },
    "orig_nbformat": 2
  },
  "nbformat": 4,
  "nbformat_minor": 2
}
