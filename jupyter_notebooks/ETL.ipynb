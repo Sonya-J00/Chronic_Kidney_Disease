{
  "cells": [
    {
      "cell_type": "markdown",
      "metadata": {
        "id": "0aStgWSO0E0E"
      },
      "source": [
        "# Import, Cleaning and Transformation of the Chronic Kidney Disease Dataset"
      ]
    },
    {
      "cell_type": "markdown",
      "metadata": {
        "id": "1eLEkw5O0ECa"
      },
      "source": [
        "## Objectives\n",
        "\n",
        "* To import raw data; clean; transform and save the new DataFrame(s) to be used for visualisations\n",
        "\n",
        "## Inputs\n",
        "\n",
        "* The dataset was downloaded from [kaggle](https://www.kaggle.com/datasets/rabieelkharoua/chronic-kidney-disease-dataset-analysis/data)\n",
        "* The data file is located C:\\Users\\sonia\\Documents\\VS Studio Projects\\Chronic_Kidney_Disease\\Dataset\\Raw \n",
        "\n",
        "## Outputs\n",
        "\n",
        "* Write here which files, code or artefacts you generate by the end of the notebook \n",
        "\n",
        "## Additional Comments\n",
        "\n",
        "* If you have any additional comments that don't fit in the previous bullets, please state them here. \n",
        "\n"
      ]
    },
    {
      "cell_type": "markdown",
      "metadata": {
        "id": "9uWZXH9LwoQg"
      },
      "source": [
        "---"
      ]
    },
    {
      "cell_type": "markdown",
      "metadata": {
        "id": "cqP-UeN-z3i2"
      },
      "source": [
        "# Change working directory"
      ]
    },
    {
      "cell_type": "markdown",
      "metadata": {},
      "source": [
        "* We are assuming you will store the notebooks in a subfolder, therefore when running the notebook in the editor, you will need to change the working directory"
      ]
    },
    {
      "cell_type": "markdown",
      "metadata": {
        "id": "aOGIGS-uz3i2"
      },
      "source": [
        "We need to change the working directory from its current folder to its parent folder\n",
        "* We access the current directory with os.getcwd()"
      ]
    },
    {
      "cell_type": "code",
      "execution_count": 1,
      "metadata": {
        "id": "wZfF_j-Bz3i4",
        "outputId": "66943449-1436-4c3d-85c7-b85f9f78349b"
      },
      "outputs": [
        {
          "data": {
            "text/plain": [
              "'c:\\\\Users\\\\sonia\\\\Documents\\\\VS Studio Projects\\\\Chronic_Kidney_Disease\\\\jupyter_notebooks'"
            ]
          },
          "execution_count": 1,
          "metadata": {},
          "output_type": "execute_result"
        }
      ],
      "source": [
        "import os\n",
        "current_dir = os.getcwd()\n",
        "current_dir"
      ]
    },
    {
      "cell_type": "markdown",
      "metadata": {
        "id": "9MWW8E7lz3i7"
      },
      "source": [
        "We want to make the parent of the current directory the new current directory\n",
        "* os.path.dirname() gets the parent directory\n",
        "* os.chir() defines the new current directory"
      ]
    },
    {
      "cell_type": "code",
      "execution_count": 2,
      "metadata": {
        "id": "TwHsQRWjz3i9",
        "outputId": "86849db3-cd2f-4cc5-ebb8-2d0caafa1a2c"
      },
      "outputs": [
        {
          "name": "stdout",
          "output_type": "stream",
          "text": [
            "You set a new current directory\n"
          ]
        }
      ],
      "source": [
        "os.chdir(os.path.dirname(current_dir))\n",
        "print(\"You set a new current directory\")"
      ]
    },
    {
      "cell_type": "markdown",
      "metadata": {
        "id": "M_xPk_Ijz3i-"
      },
      "source": [
        "Confirm the new current directory"
      ]
    },
    {
      "cell_type": "code",
      "execution_count": 3,
      "metadata": {
        "id": "vz3S-_kjz3jA",
        "outputId": "00b79ae4-75d0-4a96-d193-ac9ef9847ea2"
      },
      "outputs": [
        {
          "data": {
            "text/plain": [
              "'c:\\\\Users\\\\sonia\\\\Documents\\\\VS Studio Projects\\\\Chronic_Kidney_Disease'"
            ]
          },
          "execution_count": 3,
          "metadata": {},
          "output_type": "execute_result"
        }
      ],
      "source": [
        "current_dir = os.getcwd()\n",
        "current_dir"
      ]
    },
    {
      "cell_type": "markdown",
      "metadata": {
        "id": "-mavJ8DibrcQ"
      },
      "source": [
        "# Importing Data"
      ]
    },
    {
      "cell_type": "markdown",
      "metadata": {},
      "source": [
        "To begin, I will import Numpy and Pandas before I import the dataset using Pandas."
      ]
    },
    {
      "cell_type": "code",
      "execution_count": 4,
      "metadata": {},
      "outputs": [],
      "source": [
        "import numpy as np\n",
        "import pandas as pd"
      ]
    },
    {
      "cell_type": "code",
      "execution_count": null,
      "metadata": {},
      "outputs": [],
      "source": [
        "pd.set_option('display.max_columns', None) # asked ChatGPT how I could see all columns"
      ]
    },
    {
      "cell_type": "markdown",
      "metadata": {},
      "source": [
        "I added the code above to view all columns after seeing it was abbreviated below."
      ]
    },
    {
      "cell_type": "code",
      "execution_count": 14,
      "metadata": {},
      "outputs": [
        {
          "data": {
            "text/html": [
              "<div>\n",
              "<style scoped>\n",
              "    .dataframe tbody tr th:only-of-type {\n",
              "        vertical-align: middle;\n",
              "    }\n",
              "\n",
              "    .dataframe tbody tr th {\n",
              "        vertical-align: top;\n",
              "    }\n",
              "\n",
              "    .dataframe thead th {\n",
              "        text-align: right;\n",
              "    }\n",
              "</style>\n",
              "<table border=\"1\" class=\"dataframe\">\n",
              "  <thead>\n",
              "    <tr style=\"text-align: right;\">\n",
              "      <th></th>\n",
              "      <th>PatientID</th>\n",
              "      <th>Age</th>\n",
              "      <th>Gender</th>\n",
              "      <th>Ethnicity</th>\n",
              "      <th>SocioeconomicStatus</th>\n",
              "      <th>EducationLevel</th>\n",
              "      <th>BMI</th>\n",
              "      <th>Smoking</th>\n",
              "      <th>AlcoholConsumption</th>\n",
              "      <th>PhysicalActivity</th>\n",
              "      <th>DietQuality</th>\n",
              "      <th>SleepQuality</th>\n",
              "      <th>FamilyHistoryKidneyDisease</th>\n",
              "      <th>FamilyHistoryHypertension</th>\n",
              "      <th>FamilyHistoryDiabetes</th>\n",
              "      <th>PreviousAcuteKidneyInjury</th>\n",
              "      <th>UrinaryTractInfections</th>\n",
              "      <th>SystolicBP</th>\n",
              "      <th>DiastolicBP</th>\n",
              "      <th>FastingBloodSugar</th>\n",
              "      <th>HbA1c</th>\n",
              "      <th>SerumCreatinine</th>\n",
              "      <th>BUNLevels</th>\n",
              "      <th>GFR</th>\n",
              "      <th>ProteinInUrine</th>\n",
              "      <th>ACR</th>\n",
              "      <th>SerumElectrolytesSodium</th>\n",
              "      <th>SerumElectrolytesPotassium</th>\n",
              "      <th>SerumElectrolytesCalcium</th>\n",
              "      <th>SerumElectrolytesPhosphorus</th>\n",
              "      <th>HemoglobinLevels</th>\n",
              "      <th>CholesterolTotal</th>\n",
              "      <th>CholesterolLDL</th>\n",
              "      <th>CholesterolHDL</th>\n",
              "      <th>CholesterolTriglycerides</th>\n",
              "      <th>ACEInhibitors</th>\n",
              "      <th>Diuretics</th>\n",
              "      <th>NSAIDsUse</th>\n",
              "      <th>Statins</th>\n",
              "      <th>AntidiabeticMedications</th>\n",
              "      <th>Edema</th>\n",
              "      <th>FatigueLevels</th>\n",
              "      <th>NauseaVomiting</th>\n",
              "      <th>MuscleCramps</th>\n",
              "      <th>Itching</th>\n",
              "      <th>QualityOfLifeScore</th>\n",
              "      <th>HeavyMetalsExposure</th>\n",
              "      <th>OccupationalExposureChemicals</th>\n",
              "      <th>WaterQuality</th>\n",
              "      <th>MedicalCheckupsFrequency</th>\n",
              "      <th>MedicationAdherence</th>\n",
              "      <th>HealthLiteracy</th>\n",
              "      <th>Diagnosis</th>\n",
              "      <th>DoctorInCharge</th>\n",
              "    </tr>\n",
              "  </thead>\n",
              "  <tbody>\n",
              "    <tr>\n",
              "      <th>0</th>\n",
              "      <td>1</td>\n",
              "      <td>71</td>\n",
              "      <td>0</td>\n",
              "      <td>0</td>\n",
              "      <td>0</td>\n",
              "      <td>2</td>\n",
              "      <td>31.069414</td>\n",
              "      <td>1</td>\n",
              "      <td>5.128112</td>\n",
              "      <td>1.676220</td>\n",
              "      <td>0.240386</td>\n",
              "      <td>4.076434</td>\n",
              "      <td>0</td>\n",
              "      <td>0</td>\n",
              "      <td>0</td>\n",
              "      <td>0</td>\n",
              "      <td>0</td>\n",
              "      <td>113</td>\n",
              "      <td>83</td>\n",
              "      <td>72.510788</td>\n",
              "      <td>9.212397</td>\n",
              "      <td>4.962531</td>\n",
              "      <td>25.605949</td>\n",
              "      <td>45.703204</td>\n",
              "      <td>0.744980</td>\n",
              "      <td>123.849426</td>\n",
              "      <td>137.652501</td>\n",
              "      <td>3.626058</td>\n",
              "      <td>10.314420</td>\n",
              "      <td>3.152648</td>\n",
              "      <td>16.114679</td>\n",
              "      <td>207.728670</td>\n",
              "      <td>85.863656</td>\n",
              "      <td>21.967957</td>\n",
              "      <td>212.095215</td>\n",
              "      <td>0</td>\n",
              "      <td>0</td>\n",
              "      <td>4.563139</td>\n",
              "      <td>1</td>\n",
              "      <td>0</td>\n",
              "      <td>0</td>\n",
              "      <td>3.563894</td>\n",
              "      <td>6.992244</td>\n",
              "      <td>4.518513</td>\n",
              "      <td>7.556302</td>\n",
              "      <td>76.076800</td>\n",
              "      <td>0</td>\n",
              "      <td>0</td>\n",
              "      <td>1</td>\n",
              "      <td>1.018824</td>\n",
              "      <td>4.966808</td>\n",
              "      <td>9.871449</td>\n",
              "      <td>1</td>\n",
              "      <td>Confidential</td>\n",
              "    </tr>\n",
              "    <tr>\n",
              "      <th>1</th>\n",
              "      <td>2</td>\n",
              "      <td>34</td>\n",
              "      <td>0</td>\n",
              "      <td>0</td>\n",
              "      <td>1</td>\n",
              "      <td>3</td>\n",
              "      <td>29.692119</td>\n",
              "      <td>1</td>\n",
              "      <td>18.609552</td>\n",
              "      <td>8.377574</td>\n",
              "      <td>6.503233</td>\n",
              "      <td>7.652813</td>\n",
              "      <td>1</td>\n",
              "      <td>1</td>\n",
              "      <td>0</td>\n",
              "      <td>0</td>\n",
              "      <td>0</td>\n",
              "      <td>120</td>\n",
              "      <td>67</td>\n",
              "      <td>100.848875</td>\n",
              "      <td>4.604989</td>\n",
              "      <td>3.156799</td>\n",
              "      <td>31.338166</td>\n",
              "      <td>55.784504</td>\n",
              "      <td>3.052317</td>\n",
              "      <td>88.539095</td>\n",
              "      <td>138.141335</td>\n",
              "      <td>5.332871</td>\n",
              "      <td>9.604196</td>\n",
              "      <td>2.855443</td>\n",
              "      <td>15.349205</td>\n",
              "      <td>189.450727</td>\n",
              "      <td>86.378670</td>\n",
              "      <td>87.569756</td>\n",
              "      <td>255.451314</td>\n",
              "      <td>0</td>\n",
              "      <td>0</td>\n",
              "      <td>9.097002</td>\n",
              "      <td>0</td>\n",
              "      <td>0</td>\n",
              "      <td>0</td>\n",
              "      <td>5.327336</td>\n",
              "      <td>0.356290</td>\n",
              "      <td>2.202222</td>\n",
              "      <td>6.836766</td>\n",
              "      <td>40.128498</td>\n",
              "      <td>0</td>\n",
              "      <td>0</td>\n",
              "      <td>0</td>\n",
              "      <td>3.923538</td>\n",
              "      <td>8.189275</td>\n",
              "      <td>7.161765</td>\n",
              "      <td>1</td>\n",
              "      <td>Confidential</td>\n",
              "    </tr>\n",
              "    <tr>\n",
              "      <th>2</th>\n",
              "      <td>3</td>\n",
              "      <td>80</td>\n",
              "      <td>1</td>\n",
              "      <td>1</td>\n",
              "      <td>0</td>\n",
              "      <td>1</td>\n",
              "      <td>37.394822</td>\n",
              "      <td>1</td>\n",
              "      <td>11.882429</td>\n",
              "      <td>9.607401</td>\n",
              "      <td>2.104828</td>\n",
              "      <td>4.392786</td>\n",
              "      <td>0</td>\n",
              "      <td>0</td>\n",
              "      <td>0</td>\n",
              "      <td>0</td>\n",
              "      <td>0</td>\n",
              "      <td>147</td>\n",
              "      <td>106</td>\n",
              "      <td>160.989441</td>\n",
              "      <td>5.432599</td>\n",
              "      <td>3.698236</td>\n",
              "      <td>39.738169</td>\n",
              "      <td>67.559032</td>\n",
              "      <td>1.157839</td>\n",
              "      <td>21.170892</td>\n",
              "      <td>142.970116</td>\n",
              "      <td>4.330891</td>\n",
              "      <td>9.885786</td>\n",
              "      <td>4.353513</td>\n",
              "      <td>13.018834</td>\n",
              "      <td>284.137622</td>\n",
              "      <td>132.269872</td>\n",
              "      <td>20.049798</td>\n",
              "      <td>251.902583</td>\n",
              "      <td>0</td>\n",
              "      <td>1</td>\n",
              "      <td>3.851249</td>\n",
              "      <td>1</td>\n",
              "      <td>0</td>\n",
              "      <td>0</td>\n",
              "      <td>4.855420</td>\n",
              "      <td>4.674069</td>\n",
              "      <td>5.967271</td>\n",
              "      <td>2.144722</td>\n",
              "      <td>92.872842</td>\n",
              "      <td>0</td>\n",
              "      <td>1</td>\n",
              "      <td>1</td>\n",
              "      <td>1.429906</td>\n",
              "      <td>7.624028</td>\n",
              "      <td>7.354632</td>\n",
              "      <td>1</td>\n",
              "      <td>Confidential</td>\n",
              "    </tr>\n",
              "    <tr>\n",
              "      <th>3</th>\n",
              "      <td>4</td>\n",
              "      <td>40</td>\n",
              "      <td>0</td>\n",
              "      <td>2</td>\n",
              "      <td>0</td>\n",
              "      <td>1</td>\n",
              "      <td>31.329680</td>\n",
              "      <td>0</td>\n",
              "      <td>16.020165</td>\n",
              "      <td>0.408871</td>\n",
              "      <td>6.964422</td>\n",
              "      <td>6.282274</td>\n",
              "      <td>0</td>\n",
              "      <td>0</td>\n",
              "      <td>0</td>\n",
              "      <td>0</td>\n",
              "      <td>0</td>\n",
              "      <td>117</td>\n",
              "      <td>65</td>\n",
              "      <td>188.506620</td>\n",
              "      <td>4.144466</td>\n",
              "      <td>2.868468</td>\n",
              "      <td>21.980958</td>\n",
              "      <td>33.202542</td>\n",
              "      <td>3.745871</td>\n",
              "      <td>123.779699</td>\n",
              "      <td>137.106913</td>\n",
              "      <td>3.810741</td>\n",
              "      <td>9.995894</td>\n",
              "      <td>4.016134</td>\n",
              "      <td>15.056339</td>\n",
              "      <td>235.112124</td>\n",
              "      <td>93.443669</td>\n",
              "      <td>58.260291</td>\n",
              "      <td>392.338425</td>\n",
              "      <td>0</td>\n",
              "      <td>0</td>\n",
              "      <td>7.881765</td>\n",
              "      <td>0</td>\n",
              "      <td>0</td>\n",
              "      <td>0</td>\n",
              "      <td>8.531685</td>\n",
              "      <td>5.691455</td>\n",
              "      <td>2.176387</td>\n",
              "      <td>7.077188</td>\n",
              "      <td>90.080321</td>\n",
              "      <td>0</td>\n",
              "      <td>0</td>\n",
              "      <td>0</td>\n",
              "      <td>3.226416</td>\n",
              "      <td>3.282688</td>\n",
              "      <td>6.629587</td>\n",
              "      <td>1</td>\n",
              "      <td>Confidential</td>\n",
              "    </tr>\n",
              "    <tr>\n",
              "      <th>4</th>\n",
              "      <td>5</td>\n",
              "      <td>43</td>\n",
              "      <td>0</td>\n",
              "      <td>1</td>\n",
              "      <td>1</td>\n",
              "      <td>2</td>\n",
              "      <td>23.726311</td>\n",
              "      <td>0</td>\n",
              "      <td>7.944146</td>\n",
              "      <td>0.780319</td>\n",
              "      <td>3.097796</td>\n",
              "      <td>4.021639</td>\n",
              "      <td>0</td>\n",
              "      <td>0</td>\n",
              "      <td>0</td>\n",
              "      <td>0</td>\n",
              "      <td>0</td>\n",
              "      <td>98</td>\n",
              "      <td>66</td>\n",
              "      <td>82.156699</td>\n",
              "      <td>4.262979</td>\n",
              "      <td>3.964877</td>\n",
              "      <td>12.216366</td>\n",
              "      <td>56.319082</td>\n",
              "      <td>2.570993</td>\n",
              "      <td>184.852046</td>\n",
              "      <td>140.627812</td>\n",
              "      <td>4.866765</td>\n",
              "      <td>8.907622</td>\n",
              "      <td>3.947907</td>\n",
              "      <td>16.690561</td>\n",
              "      <td>258.277566</td>\n",
              "      <td>171.758356</td>\n",
              "      <td>21.583213</td>\n",
              "      <td>370.523877</td>\n",
              "      <td>1</td>\n",
              "      <td>1</td>\n",
              "      <td>4.179459</td>\n",
              "      <td>1</td>\n",
              "      <td>0</td>\n",
              "      <td>0</td>\n",
              "      <td>1.422320</td>\n",
              "      <td>2.273459</td>\n",
              "      <td>6.800993</td>\n",
              "      <td>3.553118</td>\n",
              "      <td>5.258372</td>\n",
              "      <td>0</td>\n",
              "      <td>0</td>\n",
              "      <td>1</td>\n",
              "      <td>0.285466</td>\n",
              "      <td>3.849498</td>\n",
              "      <td>1.437385</td>\n",
              "      <td>1</td>\n",
              "      <td>Confidential</td>\n",
              "    </tr>\n",
              "  </tbody>\n",
              "</table>\n",
              "</div>"
            ],
            "text/plain": [
              "   PatientID  Age  Gender  Ethnicity  SocioeconomicStatus  EducationLevel  \\\n",
              "0          1   71       0          0                    0               2   \n",
              "1          2   34       0          0                    1               3   \n",
              "2          3   80       1          1                    0               1   \n",
              "3          4   40       0          2                    0               1   \n",
              "4          5   43       0          1                    1               2   \n",
              "\n",
              "         BMI  Smoking  AlcoholConsumption  PhysicalActivity  DietQuality  \\\n",
              "0  31.069414        1            5.128112          1.676220     0.240386   \n",
              "1  29.692119        1           18.609552          8.377574     6.503233   \n",
              "2  37.394822        1           11.882429          9.607401     2.104828   \n",
              "3  31.329680        0           16.020165          0.408871     6.964422   \n",
              "4  23.726311        0            7.944146          0.780319     3.097796   \n",
              "\n",
              "   SleepQuality  FamilyHistoryKidneyDisease  FamilyHistoryHypertension  \\\n",
              "0      4.076434                           0                          0   \n",
              "1      7.652813                           1                          1   \n",
              "2      4.392786                           0                          0   \n",
              "3      6.282274                           0                          0   \n",
              "4      4.021639                           0                          0   \n",
              "\n",
              "   FamilyHistoryDiabetes  PreviousAcuteKidneyInjury  UrinaryTractInfections  \\\n",
              "0                      0                          0                       0   \n",
              "1                      0                          0                       0   \n",
              "2                      0                          0                       0   \n",
              "3                      0                          0                       0   \n",
              "4                      0                          0                       0   \n",
              "\n",
              "   SystolicBP  DiastolicBP  FastingBloodSugar     HbA1c  SerumCreatinine  \\\n",
              "0         113           83          72.510788  9.212397         4.962531   \n",
              "1         120           67         100.848875  4.604989         3.156799   \n",
              "2         147          106         160.989441  5.432599         3.698236   \n",
              "3         117           65         188.506620  4.144466         2.868468   \n",
              "4          98           66          82.156699  4.262979         3.964877   \n",
              "\n",
              "   BUNLevels        GFR  ProteinInUrine         ACR  SerumElectrolytesSodium  \\\n",
              "0  25.605949  45.703204        0.744980  123.849426               137.652501   \n",
              "1  31.338166  55.784504        3.052317   88.539095               138.141335   \n",
              "2  39.738169  67.559032        1.157839   21.170892               142.970116   \n",
              "3  21.980958  33.202542        3.745871  123.779699               137.106913   \n",
              "4  12.216366  56.319082        2.570993  184.852046               140.627812   \n",
              "\n",
              "   SerumElectrolytesPotassium  SerumElectrolytesCalcium  \\\n",
              "0                    3.626058                 10.314420   \n",
              "1                    5.332871                  9.604196   \n",
              "2                    4.330891                  9.885786   \n",
              "3                    3.810741                  9.995894   \n",
              "4                    4.866765                  8.907622   \n",
              "\n",
              "   SerumElectrolytesPhosphorus  HemoglobinLevels  CholesterolTotal  \\\n",
              "0                     3.152648         16.114679        207.728670   \n",
              "1                     2.855443         15.349205        189.450727   \n",
              "2                     4.353513         13.018834        284.137622   \n",
              "3                     4.016134         15.056339        235.112124   \n",
              "4                     3.947907         16.690561        258.277566   \n",
              "\n",
              "   CholesterolLDL  CholesterolHDL  CholesterolTriglycerides  ACEInhibitors  \\\n",
              "0       85.863656       21.967957                212.095215              0   \n",
              "1       86.378670       87.569756                255.451314              0   \n",
              "2      132.269872       20.049798                251.902583              0   \n",
              "3       93.443669       58.260291                392.338425              0   \n",
              "4      171.758356       21.583213                370.523877              1   \n",
              "\n",
              "   Diuretics  NSAIDsUse  Statins  AntidiabeticMedications  Edema  \\\n",
              "0          0   4.563139        1                        0      0   \n",
              "1          0   9.097002        0                        0      0   \n",
              "2          1   3.851249        1                        0      0   \n",
              "3          0   7.881765        0                        0      0   \n",
              "4          1   4.179459        1                        0      0   \n",
              "\n",
              "   FatigueLevels  NauseaVomiting  MuscleCramps   Itching  QualityOfLifeScore  \\\n",
              "0       3.563894        6.992244      4.518513  7.556302           76.076800   \n",
              "1       5.327336        0.356290      2.202222  6.836766           40.128498   \n",
              "2       4.855420        4.674069      5.967271  2.144722           92.872842   \n",
              "3       8.531685        5.691455      2.176387  7.077188           90.080321   \n",
              "4       1.422320        2.273459      6.800993  3.553118            5.258372   \n",
              "\n",
              "   HeavyMetalsExposure  OccupationalExposureChemicals  WaterQuality  \\\n",
              "0                    0                              0             1   \n",
              "1                    0                              0             0   \n",
              "2                    0                              1             1   \n",
              "3                    0                              0             0   \n",
              "4                    0                              0             1   \n",
              "\n",
              "   MedicalCheckupsFrequency  MedicationAdherence  HealthLiteracy  Diagnosis  \\\n",
              "0                  1.018824             4.966808        9.871449          1   \n",
              "1                  3.923538             8.189275        7.161765          1   \n",
              "2                  1.429906             7.624028        7.354632          1   \n",
              "3                  3.226416             3.282688        6.629587          1   \n",
              "4                  0.285466             3.849498        1.437385          1   \n",
              "\n",
              "  DoctorInCharge  \n",
              "0   Confidential  \n",
              "1   Confidential  \n",
              "2   Confidential  \n",
              "3   Confidential  \n",
              "4   Confidential  "
            ]
          },
          "execution_count": 14,
          "metadata": {},
          "output_type": "execute_result"
        }
      ],
      "source": [
        "df = pd.read_csv(\"Dataset/Raw/Chronic_Kidney_Disease_data.csv\")\n",
        "df.head()"
      ]
    },
    {
      "cell_type": "markdown",
      "metadata": {},
      "source": [
        "I can see that patients have been annonymised using a 'PatientID' column. I also see that the DataFrame is too wide to view in this notebook. I believe this will become an issue that I need to deal with."
      ]
    },
    {
      "cell_type": "markdown",
      "metadata": {
        "id": "ZY3l0-AxO93d"
      },
      "source": [
        "---"
      ]
    },
    {
      "cell_type": "markdown",
      "metadata": {
        "id": "uFQo3ycuO-v6"
      },
      "source": [
        "# Basic DataFrame Exploration"
      ]
    },
    {
      "cell_type": "markdown",
      "metadata": {},
      "source": [
        "I will look at the shape of the DataFrame, the types of data contained, check for missing values, describe the column variables, and ensure 'PatientID' values are unique."
      ]
    },
    {
      "cell_type": "markdown",
      "metadata": {},
      "source": [
        "### Shape"
      ]
    },
    {
      "cell_type": "code",
      "execution_count": 8,
      "metadata": {},
      "outputs": [
        {
          "name": "stdout",
          "output_type": "stream",
          "text": [
            "(1659, 54)\n"
          ]
        }
      ],
      "source": [
        "print(df.shape)"
      ]
    },
    {
      "cell_type": "markdown",
      "metadata": {},
      "source": [
        "### Info and Data Type"
      ]
    },
    {
      "cell_type": "code",
      "execution_count": 15,
      "metadata": {},
      "outputs": [
        {
          "name": "stdout",
          "output_type": "stream",
          "text": [
            "<class 'pandas.core.frame.DataFrame'>\n",
            "RangeIndex: 1659 entries, 0 to 1658\n",
            "Data columns (total 54 columns):\n",
            " #   Column                         Non-Null Count  Dtype  \n",
            "---  ------                         --------------  -----  \n",
            " 0   PatientID                      1659 non-null   int64  \n",
            " 1   Age                            1659 non-null   int64  \n",
            " 2   Gender                         1659 non-null   int64  \n",
            " 3   Ethnicity                      1659 non-null   int64  \n",
            " 4   SocioeconomicStatus            1659 non-null   int64  \n",
            " 5   EducationLevel                 1659 non-null   int64  \n",
            " 6   BMI                            1659 non-null   float64\n",
            " 7   Smoking                        1659 non-null   int64  \n",
            " 8   AlcoholConsumption             1659 non-null   float64\n",
            " 9   PhysicalActivity               1659 non-null   float64\n",
            " 10  DietQuality                    1659 non-null   float64\n",
            " 11  SleepQuality                   1659 non-null   float64\n",
            " 12  FamilyHistoryKidneyDisease     1659 non-null   int64  \n",
            " 13  FamilyHistoryHypertension      1659 non-null   int64  \n",
            " 14  FamilyHistoryDiabetes          1659 non-null   int64  \n",
            " 15  PreviousAcuteKidneyInjury      1659 non-null   int64  \n",
            " 16  UrinaryTractInfections         1659 non-null   int64  \n",
            " 17  SystolicBP                     1659 non-null   int64  \n",
            " 18  DiastolicBP                    1659 non-null   int64  \n",
            " 19  FastingBloodSugar              1659 non-null   float64\n",
            " 20  HbA1c                          1659 non-null   float64\n",
            " 21  SerumCreatinine                1659 non-null   float64\n",
            " 22  BUNLevels                      1659 non-null   float64\n",
            " 23  GFR                            1659 non-null   float64\n",
            " 24  ProteinInUrine                 1659 non-null   float64\n",
            " 25  ACR                            1659 non-null   float64\n",
            " 26  SerumElectrolytesSodium        1659 non-null   float64\n",
            " 27  SerumElectrolytesPotassium     1659 non-null   float64\n",
            " 28  SerumElectrolytesCalcium       1659 non-null   float64\n",
            " 29  SerumElectrolytesPhosphorus    1659 non-null   float64\n",
            " 30  HemoglobinLevels               1659 non-null   float64\n",
            " 31  CholesterolTotal               1659 non-null   float64\n",
            " 32  CholesterolLDL                 1659 non-null   float64\n",
            " 33  CholesterolHDL                 1659 non-null   float64\n",
            " 34  CholesterolTriglycerides       1659 non-null   float64\n",
            " 35  ACEInhibitors                  1659 non-null   int64  \n",
            " 36  Diuretics                      1659 non-null   int64  \n",
            " 37  NSAIDsUse                      1659 non-null   float64\n",
            " 38  Statins                        1659 non-null   int64  \n",
            " 39  AntidiabeticMedications        1659 non-null   int64  \n",
            " 40  Edema                          1659 non-null   int64  \n",
            " 41  FatigueLevels                  1659 non-null   float64\n",
            " 42  NauseaVomiting                 1659 non-null   float64\n",
            " 43  MuscleCramps                   1659 non-null   float64\n",
            " 44  Itching                        1659 non-null   float64\n",
            " 45  QualityOfLifeScore             1659 non-null   float64\n",
            " 46  HeavyMetalsExposure            1659 non-null   int64  \n",
            " 47  OccupationalExposureChemicals  1659 non-null   int64  \n",
            " 48  WaterQuality                   1659 non-null   int64  \n",
            " 49  MedicalCheckupsFrequency       1659 non-null   float64\n",
            " 50  MedicationAdherence            1659 non-null   float64\n",
            " 51  HealthLiteracy                 1659 non-null   float64\n",
            " 52  Diagnosis                      1659 non-null   int64  \n",
            " 53  DoctorInCharge                 1659 non-null   object \n",
            "dtypes: float64(30), int64(23), object(1)\n",
            "memory usage: 700.0+ KB\n"
          ]
        }
      ],
      "source": [
        "df.info()"
      ]
    },
    {
      "cell_type": "markdown",
      "metadata": {},
      "source": [
        "I can see that there are 1659 rows of data and 54 columns. Data types are: 30 float columns; 23 integer column; and 1 object column. I can see that variables which are numeric continuous are floats (e.g. BMI), and  variables which are categorical have been encoded as an integer (Ethnicity). All data types appear correct. If they were not, I would correct using:\n",
        "\n",
        "df['column'] = df['column'].astype('data_type')"
      ]
    },
    {
      "cell_type": "markdown",
      "metadata": {},
      "source": [
        "### Missing Data 'NaN\""
      ]
    },
    {
      "cell_type": "code",
      "execution_count": 9,
      "metadata": {},
      "outputs": [
        {
          "data": {
            "text/plain": [
              "PatientID                        0\n",
              "Age                              0\n",
              "Gender                           0\n",
              "Ethnicity                        0\n",
              "SocioeconomicStatus              0\n",
              "EducationLevel                   0\n",
              "BMI                              0\n",
              "Smoking                          0\n",
              "AlcoholConsumption               0\n",
              "PhysicalActivity                 0\n",
              "DietQuality                      0\n",
              "SleepQuality                     0\n",
              "FamilyHistoryKidneyDisease       0\n",
              "FamilyHistoryHypertension        0\n",
              "FamilyHistoryDiabetes            0\n",
              "PreviousAcuteKidneyInjury        0\n",
              "UrinaryTractInfections           0\n",
              "SystolicBP                       0\n",
              "DiastolicBP                      0\n",
              "FastingBloodSugar                0\n",
              "HbA1c                            0\n",
              "SerumCreatinine                  0\n",
              "BUNLevels                        0\n",
              "GFR                              0\n",
              "ProteinInUrine                   0\n",
              "ACR                              0\n",
              "SerumElectrolytesSodium          0\n",
              "SerumElectrolytesPotassium       0\n",
              "SerumElectrolytesCalcium         0\n",
              "SerumElectrolytesPhosphorus      0\n",
              "HemoglobinLevels                 0\n",
              "CholesterolTotal                 0\n",
              "CholesterolLDL                   0\n",
              "CholesterolHDL                   0\n",
              "CholesterolTriglycerides         0\n",
              "ACEInhibitors                    0\n",
              "Diuretics                        0\n",
              "NSAIDsUse                        0\n",
              "Statins                          0\n",
              "AntidiabeticMedications          0\n",
              "Edema                            0\n",
              "FatigueLevels                    0\n",
              "NauseaVomiting                   0\n",
              "MuscleCramps                     0\n",
              "Itching                          0\n",
              "QualityOfLifeScore               0\n",
              "HeavyMetalsExposure              0\n",
              "OccupationalExposureChemicals    0\n",
              "WaterQuality                     0\n",
              "MedicalCheckupsFrequency         0\n",
              "MedicationAdherence              0\n",
              "HealthLiteracy                   0\n",
              "Diagnosis                        0\n",
              "DoctorInCharge                   0\n",
              "dtype: int64"
            ]
          },
          "execution_count": 9,
          "metadata": {},
          "output_type": "execute_result"
        }
      ],
      "source": [
        "df.isna().sum()"
      ]
    },
    {
      "cell_type": "markdown",
      "metadata": {},
      "source": [
        "This shows that there are no varibale with 'NaN' instead of values. If there were missing values, I would have dealt with them by: floats (and the int 'Age') - replace with either median (if not a normal distributon) or mean (if a normal distributiion) after analysis; integers (categorical) - I would have created another encoded category for 'Unknown'.\n",
        "\n",
        "## How???"
      ]
    },
    {
      "cell_type": "markdown",
      "metadata": {},
      "source": [
        "### Check Variable Ranges"
      ]
    },
    {
      "cell_type": "code",
      "execution_count": 16,
      "metadata": {},
      "outputs": [
        {
          "data": {
            "text/html": [
              "<div>\n",
              "<style scoped>\n",
              "    .dataframe tbody tr th:only-of-type {\n",
              "        vertical-align: middle;\n",
              "    }\n",
              "\n",
              "    .dataframe tbody tr th {\n",
              "        vertical-align: top;\n",
              "    }\n",
              "\n",
              "    .dataframe thead th {\n",
              "        text-align: right;\n",
              "    }\n",
              "</style>\n",
              "<table border=\"1\" class=\"dataframe\">\n",
              "  <thead>\n",
              "    <tr style=\"text-align: right;\">\n",
              "      <th></th>\n",
              "      <th>PatientID</th>\n",
              "      <th>Age</th>\n",
              "      <th>Gender</th>\n",
              "      <th>Ethnicity</th>\n",
              "      <th>SocioeconomicStatus</th>\n",
              "      <th>EducationLevel</th>\n",
              "      <th>BMI</th>\n",
              "      <th>Smoking</th>\n",
              "      <th>AlcoholConsumption</th>\n",
              "      <th>PhysicalActivity</th>\n",
              "      <th>DietQuality</th>\n",
              "      <th>SleepQuality</th>\n",
              "      <th>FamilyHistoryKidneyDisease</th>\n",
              "      <th>FamilyHistoryHypertension</th>\n",
              "      <th>FamilyHistoryDiabetes</th>\n",
              "      <th>PreviousAcuteKidneyInjury</th>\n",
              "      <th>UrinaryTractInfections</th>\n",
              "      <th>SystolicBP</th>\n",
              "      <th>DiastolicBP</th>\n",
              "      <th>FastingBloodSugar</th>\n",
              "      <th>HbA1c</th>\n",
              "      <th>SerumCreatinine</th>\n",
              "      <th>BUNLevels</th>\n",
              "      <th>GFR</th>\n",
              "      <th>ProteinInUrine</th>\n",
              "      <th>ACR</th>\n",
              "      <th>SerumElectrolytesSodium</th>\n",
              "      <th>SerumElectrolytesPotassium</th>\n",
              "      <th>SerumElectrolytesCalcium</th>\n",
              "      <th>SerumElectrolytesPhosphorus</th>\n",
              "      <th>HemoglobinLevels</th>\n",
              "      <th>CholesterolTotal</th>\n",
              "      <th>CholesterolLDL</th>\n",
              "      <th>CholesterolHDL</th>\n",
              "      <th>CholesterolTriglycerides</th>\n",
              "      <th>ACEInhibitors</th>\n",
              "      <th>Diuretics</th>\n",
              "      <th>NSAIDsUse</th>\n",
              "      <th>Statins</th>\n",
              "      <th>AntidiabeticMedications</th>\n",
              "      <th>Edema</th>\n",
              "      <th>FatigueLevels</th>\n",
              "      <th>NauseaVomiting</th>\n",
              "      <th>MuscleCramps</th>\n",
              "      <th>Itching</th>\n",
              "      <th>QualityOfLifeScore</th>\n",
              "      <th>HeavyMetalsExposure</th>\n",
              "      <th>OccupationalExposureChemicals</th>\n",
              "      <th>WaterQuality</th>\n",
              "      <th>MedicalCheckupsFrequency</th>\n",
              "      <th>MedicationAdherence</th>\n",
              "      <th>HealthLiteracy</th>\n",
              "      <th>Diagnosis</th>\n",
              "    </tr>\n",
              "  </thead>\n",
              "  <tbody>\n",
              "    <tr>\n",
              "      <th>count</th>\n",
              "      <td>1659.000000</td>\n",
              "      <td>1659.000000</td>\n",
              "      <td>1659.000000</td>\n",
              "      <td>1659.00000</td>\n",
              "      <td>1659.000000</td>\n",
              "      <td>1659.000000</td>\n",
              "      <td>1659.000000</td>\n",
              "      <td>1659.000000</td>\n",
              "      <td>1659.000000</td>\n",
              "      <td>1659.000000</td>\n",
              "      <td>1659.000000</td>\n",
              "      <td>1659.000000</td>\n",
              "      <td>1659.000000</td>\n",
              "      <td>1659.000000</td>\n",
              "      <td>1659.000000</td>\n",
              "      <td>1659.000000</td>\n",
              "      <td>1659.000000</td>\n",
              "      <td>1659.000000</td>\n",
              "      <td>1659.000000</td>\n",
              "      <td>1659.000000</td>\n",
              "      <td>1659.000000</td>\n",
              "      <td>1659.000000</td>\n",
              "      <td>1659.000000</td>\n",
              "      <td>1659.000000</td>\n",
              "      <td>1659.000000</td>\n",
              "      <td>1659.000000</td>\n",
              "      <td>1659.000000</td>\n",
              "      <td>1659.000000</td>\n",
              "      <td>1659.000000</td>\n",
              "      <td>1659.000000</td>\n",
              "      <td>1659.000000</td>\n",
              "      <td>1659.000000</td>\n",
              "      <td>1659.000000</td>\n",
              "      <td>1659.000000</td>\n",
              "      <td>1659.000000</td>\n",
              "      <td>1659.000000</td>\n",
              "      <td>1659.000000</td>\n",
              "      <td>1659.000000</td>\n",
              "      <td>1659.000000</td>\n",
              "      <td>1659.000000</td>\n",
              "      <td>1659.000000</td>\n",
              "      <td>1659.000000</td>\n",
              "      <td>1659.000000</td>\n",
              "      <td>1659.000000</td>\n",
              "      <td>1659.000000</td>\n",
              "      <td>1659.000000</td>\n",
              "      <td>1659.000000</td>\n",
              "      <td>1659.000000</td>\n",
              "      <td>1659.000000</td>\n",
              "      <td>1659.000000</td>\n",
              "      <td>1659.000000</td>\n",
              "      <td>1659.000000</td>\n",
              "      <td>1659.000000</td>\n",
              "    </tr>\n",
              "    <tr>\n",
              "      <th>mean</th>\n",
              "      <td>830.000000</td>\n",
              "      <td>54.441230</td>\n",
              "      <td>0.515371</td>\n",
              "      <td>0.71308</td>\n",
              "      <td>0.977697</td>\n",
              "      <td>1.693189</td>\n",
              "      <td>27.620049</td>\n",
              "      <td>0.292948</td>\n",
              "      <td>9.969831</td>\n",
              "      <td>5.024247</td>\n",
              "      <td>5.028544</td>\n",
              "      <td>6.942324</td>\n",
              "      <td>0.141049</td>\n",
              "      <td>0.301386</td>\n",
              "      <td>0.257384</td>\n",
              "      <td>0.105485</td>\n",
              "      <td>0.210368</td>\n",
              "      <td>134.392405</td>\n",
              "      <td>89.313442</td>\n",
              "      <td>132.529429</td>\n",
              "      <td>6.983682</td>\n",
              "      <td>2.753198</td>\n",
              "      <td>27.578147</td>\n",
              "      <td>66.829202</td>\n",
              "      <td>2.493736</td>\n",
              "      <td>149.881615</td>\n",
              "      <td>139.968984</td>\n",
              "      <td>4.505336</td>\n",
              "      <td>9.489156</td>\n",
              "      <td>3.505543</td>\n",
              "      <td>13.927304</td>\n",
              "      <td>224.251158</td>\n",
              "      <td>125.044597</td>\n",
              "      <td>60.746861</td>\n",
              "      <td>224.804603</td>\n",
              "      <td>0.295359</td>\n",
              "      <td>0.318264</td>\n",
              "      <td>5.011715</td>\n",
              "      <td>0.380952</td>\n",
              "      <td>0.202532</td>\n",
              "      <td>0.201929</td>\n",
              "      <td>5.016697</td>\n",
              "      <td>3.482121</td>\n",
              "      <td>3.525510</td>\n",
              "      <td>5.054869</td>\n",
              "      <td>49.730659</td>\n",
              "      <td>0.044002</td>\n",
              "      <td>0.103074</td>\n",
              "      <td>0.197107</td>\n",
              "      <td>2.000336</td>\n",
              "      <td>4.947788</td>\n",
              "      <td>5.144973</td>\n",
              "      <td>0.918626</td>\n",
              "    </tr>\n",
              "    <tr>\n",
              "      <th>std</th>\n",
              "      <td>479.056364</td>\n",
              "      <td>20.549757</td>\n",
              "      <td>0.499914</td>\n",
              "      <td>1.00043</td>\n",
              "      <td>0.776686</td>\n",
              "      <td>0.910611</td>\n",
              "      <td>7.288670</td>\n",
              "      <td>0.455252</td>\n",
              "      <td>5.798787</td>\n",
              "      <td>2.866274</td>\n",
              "      <td>2.865777</td>\n",
              "      <td>1.704159</td>\n",
              "      <td>0.348177</td>\n",
              "      <td>0.458998</td>\n",
              "      <td>0.437325</td>\n",
              "      <td>0.307270</td>\n",
              "      <td>0.407693</td>\n",
              "      <td>25.767794</td>\n",
              "      <td>17.354479</td>\n",
              "      <td>36.563035</td>\n",
              "      <td>1.734714</td>\n",
              "      <td>1.317168</td>\n",
              "      <td>12.808062</td>\n",
              "      <td>30.050836</td>\n",
              "      <td>1.449695</td>\n",
              "      <td>86.850287</td>\n",
              "      <td>2.905595</td>\n",
              "      <td>0.583963</td>\n",
              "      <td>0.574849</td>\n",
              "      <td>0.576634</td>\n",
              "      <td>2.338372</td>\n",
              "      <td>43.666586</td>\n",
              "      <td>42.645021</td>\n",
              "      <td>23.170415</td>\n",
              "      <td>100.321757</td>\n",
              "      <td>0.456341</td>\n",
              "      <td>0.465943</td>\n",
              "      <td>2.869813</td>\n",
              "      <td>0.485767</td>\n",
              "      <td>0.402007</td>\n",
              "      <td>0.401560</td>\n",
              "      <td>2.896311</td>\n",
              "      <td>1.986292</td>\n",
              "      <td>2.026131</td>\n",
              "      <td>2.880460</td>\n",
              "      <td>27.827593</td>\n",
              "      <td>0.205162</td>\n",
              "      <td>0.304147</td>\n",
              "      <td>0.397934</td>\n",
              "      <td>1.141635</td>\n",
              "      <td>2.869959</td>\n",
              "      <td>2.901138</td>\n",
              "      <td>0.273492</td>\n",
              "    </tr>\n",
              "    <tr>\n",
              "      <th>min</th>\n",
              "      <td>1.000000</td>\n",
              "      <td>20.000000</td>\n",
              "      <td>0.000000</td>\n",
              "      <td>0.00000</td>\n",
              "      <td>0.000000</td>\n",
              "      <td>0.000000</td>\n",
              "      <td>15.033888</td>\n",
              "      <td>0.000000</td>\n",
              "      <td>0.021740</td>\n",
              "      <td>0.001186</td>\n",
              "      <td>0.002407</td>\n",
              "      <td>4.001053</td>\n",
              "      <td>0.000000</td>\n",
              "      <td>0.000000</td>\n",
              "      <td>0.000000</td>\n",
              "      <td>0.000000</td>\n",
              "      <td>0.000000</td>\n",
              "      <td>90.000000</td>\n",
              "      <td>60.000000</td>\n",
              "      <td>70.044768</td>\n",
              "      <td>4.000405</td>\n",
              "      <td>0.501799</td>\n",
              "      <td>5.000249</td>\n",
              "      <td>15.107850</td>\n",
              "      <td>0.000900</td>\n",
              "      <td>0.178427</td>\n",
              "      <td>135.006489</td>\n",
              "      <td>3.503408</td>\n",
              "      <td>8.500033</td>\n",
              "      <td>2.503727</td>\n",
              "      <td>10.004223</td>\n",
              "      <td>150.015707</td>\n",
              "      <td>50.074597</td>\n",
              "      <td>20.030993</td>\n",
              "      <td>50.267668</td>\n",
              "      <td>0.000000</td>\n",
              "      <td>0.000000</td>\n",
              "      <td>0.000469</td>\n",
              "      <td>0.000000</td>\n",
              "      <td>0.000000</td>\n",
              "      <td>0.000000</td>\n",
              "      <td>0.015194</td>\n",
              "      <td>0.005171</td>\n",
              "      <td>0.006327</td>\n",
              "      <td>0.013697</td>\n",
              "      <td>0.087256</td>\n",
              "      <td>0.000000</td>\n",
              "      <td>0.000000</td>\n",
              "      <td>0.000000</td>\n",
              "      <td>0.001082</td>\n",
              "      <td>0.005392</td>\n",
              "      <td>0.004436</td>\n",
              "      <td>0.000000</td>\n",
              "    </tr>\n",
              "    <tr>\n",
              "      <th>25%</th>\n",
              "      <td>415.500000</td>\n",
              "      <td>36.000000</td>\n",
              "      <td>0.000000</td>\n",
              "      <td>0.00000</td>\n",
              "      <td>0.000000</td>\n",
              "      <td>1.000000</td>\n",
              "      <td>21.471449</td>\n",
              "      <td>0.000000</td>\n",
              "      <td>5.051156</td>\n",
              "      <td>2.555038</td>\n",
              "      <td>2.558443</td>\n",
              "      <td>5.487083</td>\n",
              "      <td>0.000000</td>\n",
              "      <td>0.000000</td>\n",
              "      <td>0.000000</td>\n",
              "      <td>0.000000</td>\n",
              "      <td>0.000000</td>\n",
              "      <td>113.000000</td>\n",
              "      <td>75.000000</td>\n",
              "      <td>100.504503</td>\n",
              "      <td>5.494988</td>\n",
              "      <td>1.583255</td>\n",
              "      <td>16.398275</td>\n",
              "      <td>41.149324</td>\n",
              "      <td>1.226335</td>\n",
              "      <td>76.784343</td>\n",
              "      <td>137.483563</td>\n",
              "      <td>3.993559</td>\n",
              "      <td>9.004488</td>\n",
              "      <td>2.984834</td>\n",
              "      <td>11.839478</td>\n",
              "      <td>186.440971</td>\n",
              "      <td>87.660348</td>\n",
              "      <td>41.252078</td>\n",
              "      <td>140.235507</td>\n",
              "      <td>0.000000</td>\n",
              "      <td>0.000000</td>\n",
              "      <td>2.619890</td>\n",
              "      <td>0.000000</td>\n",
              "      <td>0.000000</td>\n",
              "      <td>0.000000</td>\n",
              "      <td>2.464695</td>\n",
              "      <td>1.750661</td>\n",
              "      <td>1.820793</td>\n",
              "      <td>2.532867</td>\n",
              "      <td>26.991708</td>\n",
              "      <td>0.000000</td>\n",
              "      <td>0.000000</td>\n",
              "      <td>0.000000</td>\n",
              "      <td>1.005802</td>\n",
              "      <td>2.498119</td>\n",
              "      <td>2.569561</td>\n",
              "      <td>1.000000</td>\n",
              "    </tr>\n",
              "    <tr>\n",
              "      <th>50%</th>\n",
              "      <td>830.000000</td>\n",
              "      <td>54.000000</td>\n",
              "      <td>1.000000</td>\n",
              "      <td>0.00000</td>\n",
              "      <td>1.000000</td>\n",
              "      <td>2.000000</td>\n",
              "      <td>27.652077</td>\n",
              "      <td>0.000000</td>\n",
              "      <td>9.951503</td>\n",
              "      <td>5.072395</td>\n",
              "      <td>4.989810</td>\n",
              "      <td>6.933255</td>\n",
              "      <td>0.000000</td>\n",
              "      <td>0.000000</td>\n",
              "      <td>0.000000</td>\n",
              "      <td>0.000000</td>\n",
              "      <td>0.000000</td>\n",
              "      <td>134.000000</td>\n",
              "      <td>89.000000</td>\n",
              "      <td>131.478423</td>\n",
              "      <td>6.988001</td>\n",
              "      <td>2.732006</td>\n",
              "      <td>28.077796</td>\n",
              "      <td>66.555207</td>\n",
              "      <td>2.505260</td>\n",
              "      <td>150.195312</td>\n",
              "      <td>139.863171</td>\n",
              "      <td>4.505416</td>\n",
              "      <td>9.470789</td>\n",
              "      <td>3.511712</td>\n",
              "      <td>13.909388</td>\n",
              "      <td>223.202106</td>\n",
              "      <td>126.537520</td>\n",
              "      <td>61.845056</td>\n",
              "      <td>226.466365</td>\n",
              "      <td>0.000000</td>\n",
              "      <td>0.000000</td>\n",
              "      <td>5.078511</td>\n",
              "      <td>0.000000</td>\n",
              "      <td>0.000000</td>\n",
              "      <td>0.000000</td>\n",
              "      <td>5.117247</td>\n",
              "      <td>3.519894</td>\n",
              "      <td>3.572522</td>\n",
              "      <td>5.087086</td>\n",
              "      <td>48.970075</td>\n",
              "      <td>0.000000</td>\n",
              "      <td>0.000000</td>\n",
              "      <td>0.000000</td>\n",
              "      <td>2.040635</td>\n",
              "      <td>4.974069</td>\n",
              "      <td>5.182949</td>\n",
              "      <td>1.000000</td>\n",
              "    </tr>\n",
              "    <tr>\n",
              "      <th>75%</th>\n",
              "      <td>1244.500000</td>\n",
              "      <td>72.000000</td>\n",
              "      <td>1.000000</td>\n",
              "      <td>1.00000</td>\n",
              "      <td>2.000000</td>\n",
              "      <td>2.000000</td>\n",
              "      <td>34.015849</td>\n",
              "      <td>1.000000</td>\n",
              "      <td>14.967100</td>\n",
              "      <td>7.460563</td>\n",
              "      <td>7.428290</td>\n",
              "      <td>8.346298</td>\n",
              "      <td>0.000000</td>\n",
              "      <td>1.000000</td>\n",
              "      <td>1.000000</td>\n",
              "      <td>0.000000</td>\n",
              "      <td>0.000000</td>\n",
              "      <td>157.000000</td>\n",
              "      <td>104.000000</td>\n",
              "      <td>163.108151</td>\n",
              "      <td>8.523562</td>\n",
              "      <td>3.889830</td>\n",
              "      <td>38.127391</td>\n",
              "      <td>92.388269</td>\n",
              "      <td>3.748696</td>\n",
              "      <td>225.057873</td>\n",
              "      <td>142.534461</td>\n",
              "      <td>5.022982</td>\n",
              "      <td>9.983515</td>\n",
              "      <td>4.009621</td>\n",
              "      <td>16.012084</td>\n",
              "      <td>262.681917</td>\n",
              "      <td>159.887298</td>\n",
              "      <td>80.388199</td>\n",
              "      <td>309.782788</td>\n",
              "      <td>1.000000</td>\n",
              "      <td>1.000000</td>\n",
              "      <td>7.485980</td>\n",
              "      <td>1.000000</td>\n",
              "      <td>0.000000</td>\n",
              "      <td>0.000000</td>\n",
              "      <td>7.565993</td>\n",
              "      <td>5.253156</td>\n",
              "      <td>5.254956</td>\n",
              "      <td>7.552093</td>\n",
              "      <td>73.913997</td>\n",
              "      <td>0.000000</td>\n",
              "      <td>0.000000</td>\n",
              "      <td>0.000000</td>\n",
              "      <td>2.947213</td>\n",
              "      <td>7.499783</td>\n",
              "      <td>7.733253</td>\n",
              "      <td>1.000000</td>\n",
              "    </tr>\n",
              "    <tr>\n",
              "      <th>max</th>\n",
              "      <td>1659.000000</td>\n",
              "      <td>90.000000</td>\n",
              "      <td>1.000000</td>\n",
              "      <td>3.00000</td>\n",
              "      <td>2.000000</td>\n",
              "      <td>3.000000</td>\n",
              "      <td>39.993532</td>\n",
              "      <td>1.000000</td>\n",
              "      <td>19.992713</td>\n",
              "      <td>9.998167</td>\n",
              "      <td>9.998927</td>\n",
              "      <td>9.984197</td>\n",
              "      <td>1.000000</td>\n",
              "      <td>1.000000</td>\n",
              "      <td>1.000000</td>\n",
              "      <td>1.000000</td>\n",
              "      <td>1.000000</td>\n",
              "      <td>179.000000</td>\n",
              "      <td>119.000000</td>\n",
              "      <td>199.960429</td>\n",
              "      <td>9.998393</td>\n",
              "      <td>4.998637</td>\n",
              "      <td>49.990522</td>\n",
              "      <td>119.920261</td>\n",
              "      <td>4.996343</td>\n",
              "      <td>299.580019</td>\n",
              "      <td>144.987495</td>\n",
              "      <td>5.499781</td>\n",
              "      <td>10.499944</td>\n",
              "      <td>4.498314</td>\n",
              "      <td>17.999656</td>\n",
              "      <td>299.950846</td>\n",
              "      <td>199.909911</td>\n",
              "      <td>99.987304</td>\n",
              "      <td>399.919138</td>\n",
              "      <td>1.000000</td>\n",
              "      <td>1.000000</td>\n",
              "      <td>9.999397</td>\n",
              "      <td>1.000000</td>\n",
              "      <td>1.000000</td>\n",
              "      <td>1.000000</td>\n",
              "      <td>9.988238</td>\n",
              "      <td>6.997332</td>\n",
              "      <td>6.984636</td>\n",
              "      <td>9.998313</td>\n",
              "      <td>99.987510</td>\n",
              "      <td>1.000000</td>\n",
              "      <td>1.000000</td>\n",
              "      <td>1.000000</td>\n",
              "      <td>3.999469</td>\n",
              "      <td>9.992345</td>\n",
              "      <td>9.993754</td>\n",
              "      <td>1.000000</td>\n",
              "    </tr>\n",
              "  </tbody>\n",
              "</table>\n",
              "</div>"
            ],
            "text/plain": [
              "         PatientID          Age       Gender   Ethnicity  SocioeconomicStatus  \\\n",
              "count  1659.000000  1659.000000  1659.000000  1659.00000          1659.000000   \n",
              "mean    830.000000    54.441230     0.515371     0.71308             0.977697   \n",
              "std     479.056364    20.549757     0.499914     1.00043             0.776686   \n",
              "min       1.000000    20.000000     0.000000     0.00000             0.000000   \n",
              "25%     415.500000    36.000000     0.000000     0.00000             0.000000   \n",
              "50%     830.000000    54.000000     1.000000     0.00000             1.000000   \n",
              "75%    1244.500000    72.000000     1.000000     1.00000             2.000000   \n",
              "max    1659.000000    90.000000     1.000000     3.00000             2.000000   \n",
              "\n",
              "       EducationLevel          BMI      Smoking  AlcoholConsumption  \\\n",
              "count     1659.000000  1659.000000  1659.000000         1659.000000   \n",
              "mean         1.693189    27.620049     0.292948            9.969831   \n",
              "std          0.910611     7.288670     0.455252            5.798787   \n",
              "min          0.000000    15.033888     0.000000            0.021740   \n",
              "25%          1.000000    21.471449     0.000000            5.051156   \n",
              "50%          2.000000    27.652077     0.000000            9.951503   \n",
              "75%          2.000000    34.015849     1.000000           14.967100   \n",
              "max          3.000000    39.993532     1.000000           19.992713   \n",
              "\n",
              "       PhysicalActivity  DietQuality  SleepQuality  \\\n",
              "count       1659.000000  1659.000000   1659.000000   \n",
              "mean           5.024247     5.028544      6.942324   \n",
              "std            2.866274     2.865777      1.704159   \n",
              "min            0.001186     0.002407      4.001053   \n",
              "25%            2.555038     2.558443      5.487083   \n",
              "50%            5.072395     4.989810      6.933255   \n",
              "75%            7.460563     7.428290      8.346298   \n",
              "max            9.998167     9.998927      9.984197   \n",
              "\n",
              "       FamilyHistoryKidneyDisease  FamilyHistoryHypertension  \\\n",
              "count                 1659.000000                1659.000000   \n",
              "mean                     0.141049                   0.301386   \n",
              "std                      0.348177                   0.458998   \n",
              "min                      0.000000                   0.000000   \n",
              "25%                      0.000000                   0.000000   \n",
              "50%                      0.000000                   0.000000   \n",
              "75%                      0.000000                   1.000000   \n",
              "max                      1.000000                   1.000000   \n",
              "\n",
              "       FamilyHistoryDiabetes  PreviousAcuteKidneyInjury  \\\n",
              "count            1659.000000                1659.000000   \n",
              "mean                0.257384                   0.105485   \n",
              "std                 0.437325                   0.307270   \n",
              "min                 0.000000                   0.000000   \n",
              "25%                 0.000000                   0.000000   \n",
              "50%                 0.000000                   0.000000   \n",
              "75%                 1.000000                   0.000000   \n",
              "max                 1.000000                   1.000000   \n",
              "\n",
              "       UrinaryTractInfections   SystolicBP  DiastolicBP  FastingBloodSugar  \\\n",
              "count             1659.000000  1659.000000  1659.000000        1659.000000   \n",
              "mean                 0.210368   134.392405    89.313442         132.529429   \n",
              "std                  0.407693    25.767794    17.354479          36.563035   \n",
              "min                  0.000000    90.000000    60.000000          70.044768   \n",
              "25%                  0.000000   113.000000    75.000000         100.504503   \n",
              "50%                  0.000000   134.000000    89.000000         131.478423   \n",
              "75%                  0.000000   157.000000   104.000000         163.108151   \n",
              "max                  1.000000   179.000000   119.000000         199.960429   \n",
              "\n",
              "             HbA1c  SerumCreatinine    BUNLevels          GFR  ProteinInUrine  \\\n",
              "count  1659.000000      1659.000000  1659.000000  1659.000000     1659.000000   \n",
              "mean      6.983682         2.753198    27.578147    66.829202        2.493736   \n",
              "std       1.734714         1.317168    12.808062    30.050836        1.449695   \n",
              "min       4.000405         0.501799     5.000249    15.107850        0.000900   \n",
              "25%       5.494988         1.583255    16.398275    41.149324        1.226335   \n",
              "50%       6.988001         2.732006    28.077796    66.555207        2.505260   \n",
              "75%       8.523562         3.889830    38.127391    92.388269        3.748696   \n",
              "max       9.998393         4.998637    49.990522   119.920261        4.996343   \n",
              "\n",
              "               ACR  SerumElectrolytesSodium  SerumElectrolytesPotassium  \\\n",
              "count  1659.000000              1659.000000                 1659.000000   \n",
              "mean    149.881615               139.968984                    4.505336   \n",
              "std      86.850287                 2.905595                    0.583963   \n",
              "min       0.178427               135.006489                    3.503408   \n",
              "25%      76.784343               137.483563                    3.993559   \n",
              "50%     150.195312               139.863171                    4.505416   \n",
              "75%     225.057873               142.534461                    5.022982   \n",
              "max     299.580019               144.987495                    5.499781   \n",
              "\n",
              "       SerumElectrolytesCalcium  SerumElectrolytesPhosphorus  \\\n",
              "count               1659.000000                  1659.000000   \n",
              "mean                   9.489156                     3.505543   \n",
              "std                    0.574849                     0.576634   \n",
              "min                    8.500033                     2.503727   \n",
              "25%                    9.004488                     2.984834   \n",
              "50%                    9.470789                     3.511712   \n",
              "75%                    9.983515                     4.009621   \n",
              "max                   10.499944                     4.498314   \n",
              "\n",
              "       HemoglobinLevels  CholesterolTotal  CholesterolLDL  CholesterolHDL  \\\n",
              "count       1659.000000       1659.000000     1659.000000     1659.000000   \n",
              "mean          13.927304        224.251158      125.044597       60.746861   \n",
              "std            2.338372         43.666586       42.645021       23.170415   \n",
              "min           10.004223        150.015707       50.074597       20.030993   \n",
              "25%           11.839478        186.440971       87.660348       41.252078   \n",
              "50%           13.909388        223.202106      126.537520       61.845056   \n",
              "75%           16.012084        262.681917      159.887298       80.388199   \n",
              "max           17.999656        299.950846      199.909911       99.987304   \n",
              "\n",
              "       CholesterolTriglycerides  ACEInhibitors    Diuretics    NSAIDsUse  \\\n",
              "count               1659.000000    1659.000000  1659.000000  1659.000000   \n",
              "mean                 224.804603       0.295359     0.318264     5.011715   \n",
              "std                  100.321757       0.456341     0.465943     2.869813   \n",
              "min                   50.267668       0.000000     0.000000     0.000469   \n",
              "25%                  140.235507       0.000000     0.000000     2.619890   \n",
              "50%                  226.466365       0.000000     0.000000     5.078511   \n",
              "75%                  309.782788       1.000000     1.000000     7.485980   \n",
              "max                  399.919138       1.000000     1.000000     9.999397   \n",
              "\n",
              "           Statins  AntidiabeticMedications        Edema  FatigueLevels  \\\n",
              "count  1659.000000              1659.000000  1659.000000    1659.000000   \n",
              "mean      0.380952                 0.202532     0.201929       5.016697   \n",
              "std       0.485767                 0.402007     0.401560       2.896311   \n",
              "min       0.000000                 0.000000     0.000000       0.015194   \n",
              "25%       0.000000                 0.000000     0.000000       2.464695   \n",
              "50%       0.000000                 0.000000     0.000000       5.117247   \n",
              "75%       1.000000                 0.000000     0.000000       7.565993   \n",
              "max       1.000000                 1.000000     1.000000       9.988238   \n",
              "\n",
              "       NauseaVomiting  MuscleCramps      Itching  QualityOfLifeScore  \\\n",
              "count     1659.000000   1659.000000  1659.000000         1659.000000   \n",
              "mean         3.482121      3.525510     5.054869           49.730659   \n",
              "std          1.986292      2.026131     2.880460           27.827593   \n",
              "min          0.005171      0.006327     0.013697            0.087256   \n",
              "25%          1.750661      1.820793     2.532867           26.991708   \n",
              "50%          3.519894      3.572522     5.087086           48.970075   \n",
              "75%          5.253156      5.254956     7.552093           73.913997   \n",
              "max          6.997332      6.984636     9.998313           99.987510   \n",
              "\n",
              "       HeavyMetalsExposure  OccupationalExposureChemicals  WaterQuality  \\\n",
              "count          1659.000000                    1659.000000   1659.000000   \n",
              "mean              0.044002                       0.103074      0.197107   \n",
              "std               0.205162                       0.304147      0.397934   \n",
              "min               0.000000                       0.000000      0.000000   \n",
              "25%               0.000000                       0.000000      0.000000   \n",
              "50%               0.000000                       0.000000      0.000000   \n",
              "75%               0.000000                       0.000000      0.000000   \n",
              "max               1.000000                       1.000000      1.000000   \n",
              "\n",
              "       MedicalCheckupsFrequency  MedicationAdherence  HealthLiteracy  \\\n",
              "count               1659.000000          1659.000000     1659.000000   \n",
              "mean                   2.000336             4.947788        5.144973   \n",
              "std                    1.141635             2.869959        2.901138   \n",
              "min                    0.001082             0.005392        0.004436   \n",
              "25%                    1.005802             2.498119        2.569561   \n",
              "50%                    2.040635             4.974069        5.182949   \n",
              "75%                    2.947213             7.499783        7.733253   \n",
              "max                    3.999469             9.992345        9.993754   \n",
              "\n",
              "         Diagnosis  \n",
              "count  1659.000000  \n",
              "mean      0.918626  \n",
              "std       0.273492  \n",
              "min       0.000000  \n",
              "25%       1.000000  \n",
              "50%       1.000000  \n",
              "75%       1.000000  \n",
              "max       1.000000  "
            ]
          },
          "execution_count": 16,
          "metadata": {},
          "output_type": "execute_result"
        }
      ],
      "source": [
        "df.describe()"
      ]
    },
    {
      "cell_type": "markdown",
      "metadata": {},
      "source": [
        "I have used this function to check the expected range of each variable. In particular: I made sure that the integer variable 'Age' values are appropriate (20 - 90); categorical variables are encoded correctly, for example 'Gender' are min='0' or max='1' for male or female; variable such as 'PhysicalActivity' appear on a continuous scale from 0 - 10; and numeric continuous variables such as 'BMI' and 'SystolicBP' have appropriate ranges. \n",
        "       \n",
        "I have used both my biomedical training/ knowledge and Google Search to determine what appropriate ranges should look like for numeric continuous medical data."
      ]
    },
    {
      "cell_type": "markdown",
      "metadata": {},
      "source": [
        "To further ensure the ranges for encoded categorical variables are valid, I will look at the number of unique values in these columns by looping through data types which are 'int64', except 'Age'."
      ]
    },
    {
      "cell_type": "code",
      "execution_count": 28,
      "metadata": {},
      "outputs": [],
      "source": [
        "int_cols = df.select_dtypes(include=['int64']).columns.drop(['PatientID','Age', 'SystolicBP', 'DiastolicBP'])"
      ]
    },
    {
      "cell_type": "code",
      "execution_count": 29,
      "metadata": {},
      "outputs": [
        {
          "name": "stdout",
          "output_type": "stream",
          "text": [
            "Gender: 2 unique values out of 1659\n",
            "Ethnicity: 4 unique values out of 1659\n",
            "SocioeconomicStatus: 3 unique values out of 1659\n",
            "EducationLevel: 4 unique values out of 1659\n",
            "Smoking: 2 unique values out of 1659\n",
            "FamilyHistoryKidneyDisease: 2 unique values out of 1659\n",
            "FamilyHistoryHypertension: 2 unique values out of 1659\n",
            "FamilyHistoryDiabetes: 2 unique values out of 1659\n",
            "PreviousAcuteKidneyInjury: 2 unique values out of 1659\n",
            "UrinaryTractInfections: 2 unique values out of 1659\n",
            "ACEInhibitors: 2 unique values out of 1659\n",
            "Diuretics: 2 unique values out of 1659\n",
            "Statins: 2 unique values out of 1659\n",
            "AntidiabeticMedications: 2 unique values out of 1659\n",
            "Edema: 2 unique values out of 1659\n",
            "HeavyMetalsExposure: 2 unique values out of 1659\n",
            "OccupationalExposureChemicals: 2 unique values out of 1659\n",
            "WaterQuality: 2 unique values out of 1659\n",
            "Diagnosis: 2 unique values out of 1659\n"
          ]
        }
      ],
      "source": [
        "for col in int_cols:\n",
        "    num_unique = df[col].nunique()\n",
        "    total_rows = len(df)\n",
        "    print(f\"{col}: {num_unique} unique values out of {total_rows}\")"
      ]
    },
    {
      "cell_type": "markdown",
      "metadata": {},
      "source": [
        "### Check for duplications"
      ]
    },
    {
      "cell_type": "code",
      "execution_count": 17,
      "metadata": {},
      "outputs": [
        {
          "data": {
            "text/html": [
              "<div>\n",
              "<style scoped>\n",
              "    .dataframe tbody tr th:only-of-type {\n",
              "        vertical-align: middle;\n",
              "    }\n",
              "\n",
              "    .dataframe tbody tr th {\n",
              "        vertical-align: top;\n",
              "    }\n",
              "\n",
              "    .dataframe thead th {\n",
              "        text-align: right;\n",
              "    }\n",
              "</style>\n",
              "<table border=\"1\" class=\"dataframe\">\n",
              "  <thead>\n",
              "    <tr style=\"text-align: right;\">\n",
              "      <th></th>\n",
              "      <th>PatientID</th>\n",
              "      <th>Age</th>\n",
              "      <th>Gender</th>\n",
              "      <th>Ethnicity</th>\n",
              "      <th>SocioeconomicStatus</th>\n",
              "      <th>EducationLevel</th>\n",
              "      <th>BMI</th>\n",
              "      <th>Smoking</th>\n",
              "      <th>AlcoholConsumption</th>\n",
              "      <th>PhysicalActivity</th>\n",
              "      <th>DietQuality</th>\n",
              "      <th>SleepQuality</th>\n",
              "      <th>FamilyHistoryKidneyDisease</th>\n",
              "      <th>FamilyHistoryHypertension</th>\n",
              "      <th>FamilyHistoryDiabetes</th>\n",
              "      <th>PreviousAcuteKidneyInjury</th>\n",
              "      <th>UrinaryTractInfections</th>\n",
              "      <th>SystolicBP</th>\n",
              "      <th>DiastolicBP</th>\n",
              "      <th>FastingBloodSugar</th>\n",
              "      <th>HbA1c</th>\n",
              "      <th>SerumCreatinine</th>\n",
              "      <th>BUNLevels</th>\n",
              "      <th>GFR</th>\n",
              "      <th>ProteinInUrine</th>\n",
              "      <th>ACR</th>\n",
              "      <th>SerumElectrolytesSodium</th>\n",
              "      <th>SerumElectrolytesPotassium</th>\n",
              "      <th>SerumElectrolytesCalcium</th>\n",
              "      <th>SerumElectrolytesPhosphorus</th>\n",
              "      <th>HemoglobinLevels</th>\n",
              "      <th>CholesterolTotal</th>\n",
              "      <th>CholesterolLDL</th>\n",
              "      <th>CholesterolHDL</th>\n",
              "      <th>CholesterolTriglycerides</th>\n",
              "      <th>ACEInhibitors</th>\n",
              "      <th>Diuretics</th>\n",
              "      <th>NSAIDsUse</th>\n",
              "      <th>Statins</th>\n",
              "      <th>AntidiabeticMedications</th>\n",
              "      <th>Edema</th>\n",
              "      <th>FatigueLevels</th>\n",
              "      <th>NauseaVomiting</th>\n",
              "      <th>MuscleCramps</th>\n",
              "      <th>Itching</th>\n",
              "      <th>QualityOfLifeScore</th>\n",
              "      <th>HeavyMetalsExposure</th>\n",
              "      <th>OccupationalExposureChemicals</th>\n",
              "      <th>WaterQuality</th>\n",
              "      <th>MedicalCheckupsFrequency</th>\n",
              "      <th>MedicationAdherence</th>\n",
              "      <th>HealthLiteracy</th>\n",
              "      <th>Diagnosis</th>\n",
              "      <th>DoctorInCharge</th>\n",
              "    </tr>\n",
              "  </thead>\n",
              "  <tbody>\n",
              "  </tbody>\n",
              "</table>\n",
              "</div>"
            ],
            "text/plain": [
              "Empty DataFrame\n",
              "Columns: [PatientID, Age, Gender, Ethnicity, SocioeconomicStatus, EducationLevel, BMI, Smoking, AlcoholConsumption, PhysicalActivity, DietQuality, SleepQuality, FamilyHistoryKidneyDisease, FamilyHistoryHypertension, FamilyHistoryDiabetes, PreviousAcuteKidneyInjury, UrinaryTractInfections, SystolicBP, DiastolicBP, FastingBloodSugar, HbA1c, SerumCreatinine, BUNLevels, GFR, ProteinInUrine, ACR, SerumElectrolytesSodium, SerumElectrolytesPotassium, SerumElectrolytesCalcium, SerumElectrolytesPhosphorus, HemoglobinLevels, CholesterolTotal, CholesterolLDL, CholesterolHDL, CholesterolTriglycerides, ACEInhibitors, Diuretics, NSAIDsUse, Statins, AntidiabeticMedications, Edema, FatigueLevels, NauseaVomiting, MuscleCramps, Itching, QualityOfLifeScore, HeavyMetalsExposure, OccupationalExposureChemicals, WaterQuality, MedicalCheckupsFrequency, MedicationAdherence, HealthLiteracy, Diagnosis, DoctorInCharge]\n",
              "Index: []"
            ]
          },
          "execution_count": 17,
          "metadata": {},
          "output_type": "execute_result"
        }
      ],
      "source": [
        "df[df.duplicated()]"
      ]
    },
    {
      "cell_type": "code",
      "execution_count": 20,
      "metadata": {},
      "outputs": [
        {
          "name": "stdout",
          "output_type": "stream",
          "text": [
            "Series([], Name: count, dtype: int64)\n"
          ]
        }
      ],
      "source": [
        "dup_counts = df['PatientID'].value_counts()\n",
        "dup_counts = dup_counts[dup_counts > 1] \n",
        "print(dup_counts)"
      ]
    },
    {
      "cell_type": "markdown",
      "metadata": {},
      "source": [
        "Importantly, there are no duplicated rows or duplicated Patient IDs. If there were, I would use the following code to remove them:\n",
        "\n",
        "df = df.drop_duplicates()\n",
        "\n",
        "or\n",
        "\n",
        "df = df.drop_duplicates(subset='PatientID', keep='first')"
      ]
    },
    {
      "cell_type": "markdown",
      "metadata": {},
      "source": [
        "---"
      ]
    },
    {
      "cell_type": "markdown",
      "metadata": {},
      "source": [
        "## Basic Visualisations"
      ]
    },
    {
      "cell_type": "markdown",
      "metadata": {},
      "source": [
        "I will conduct some basic visualisations before I perform any transformations. This will help me to decide whether I should either drop unnecessary variables and/ or aggregate similar variables in summary columns. To do this, I need to first understand which variables are either correlated or overrepresented in CKD patients, and which are matched with controls.\n",
        "\n",
        "I believe age, gender, ethnicity, socioeconomic status and education level are all matched demographics, but I am going to check."
      ]
    },
    {
      "cell_type": "code",
      "execution_count": 30,
      "metadata": {},
      "outputs": [],
      "source": [
        "import matplotlib.pyplot as plt"
      ]
    },
    {
      "cell_type": "markdown",
      "metadata": {},
      "source": [
        "First, I am going to look at the distribution of ages present."
      ]
    },
    {
      "cell_type": "code",
      "execution_count": 38,
      "metadata": {},
      "outputs": [
        {
          "data": {
            "image/png": "[encoded data removed]",
            "text/plain": [
              "<Figure size 1000x600 with 1 Axes>"
            ]
          },
          "metadata": {},
          "output_type": "display_data"
        }
      ],
      "source": [
        "import scipy\n",
        "df.plot(kind='kde',y='Age',figsize=(10,6))\n",
        "plt.show()"
      ]
    },
    {
      "cell_type": "markdown",
      "metadata": {},
      "source": [
        "I can see that the ages are evenly distributed between the range of 20 - 99 years old (range taken from df.describe()). I would like to ensure that ages between the CKD and control patients are evenly matched."
      ]
    },
    {
      "cell_type": "code",
      "execution_count": 43,
      "metadata": {},
      "outputs": [
        {
          "data": {
            "image/png": "[encoded data removed]",
            "text/plain": [
              "<Figure size 640x480 with 1 Axes>"
            ]
          },
          "metadata": {},
          "output_type": "display_data"
        }
      ],
      "source": [
        "plt.hist(df[df['Diagnosis'] == 0]['Age'], bins=5, alpha=0.5, label='Diagnosis=0')\n",
        "plt.hist(df[df['Diagnosis'] == 1]['Age'], bins=5, alpha=0.5, label='Diagnosis=1')\n",
        "\n",
        "plt.xlabel('Age')\n",
        "plt.ylabel('Frequency')\n",
        "plt.title('Age Distribution by Diagnosis')\n",
        "plt.legend()\n",
        "plt.show()"
      ]
    },
    {
      "cell_type": "markdown",
      "metadata": {},
      "source": [
        "From these histograms, I can see that while we have many more CKD patients compared to control (no CKD), the shape of the distribution is similar i.e. evenly spread between the age range. Having this kind of matched data means we can compare the two populations with less caveats. "
      ]
    },
    {
      "cell_type": "markdown",
      "metadata": {},
      "source": []
    },
    {
      "cell_type": "code",
      "execution_count": 60,
      "metadata": {},
      "outputs": [
        {
          "data": {
            "image/png": "[encoded data removed]",
            "text/plain": [
              "<Figure size 500x300 with 1 Axes>"
            ]
          },
          "metadata": {},
          "output_type": "display_data"
        },
        {
          "data": {
            "image/png": "[encoded data removed]",
            "text/plain": [
              "<Figure size 500x300 with 1 Axes>"
            ]
          },
          "metadata": {},
          "output_type": "display_data"
        },
        {
          "data": {
            "image/png": "[encoded data removed]",
            "text/plain": [
              "<Figure size 500x300 with 1 Axes>"
            ]
          },
          "metadata": {},
          "output_type": "display_data"
        },
        {
          "data": {
            "image/png": "[encoded data removed]",
            "text/plain": [
              "<Figure size 500x300 with 1 Axes>"
            ]
          },
          "metadata": {},
          "output_type": "display_data"
        }
      ],
      "source": [
        "for col in df[['Gender', 'Ethnicity', 'SocioeconomicStatus', 'EducationLevel']].columns:\n",
        "    (\n",
        "    df.groupby(['Diagnosis',col])\n",
        "    .size()\n",
        "    .unstack()\n",
        "    .apply(lambda x: x/x.sum()* 100, axis=1)\n",
        "    .plot(kind='bar', stacked=True,figsize=(5,3))\n",
        "    )\n",
        "    plt.legend(title=col, fontsize=6, title_fontsize=6, loc='upper center', framealpha=0)\n",
        "    plt.gca().set_xticklabels(['Control', 'CKD'])\n",
        "    plt.xticks(fontsize=10, rotation=0)\n",
        "    plt.show()"
      ]
    },
    {
      "cell_type": "markdown",
      "metadata": {},
      "source": [
        "I believe all these variables are closely matched; although it is plain to see differences, especially in education level, I don't think these are significant.\n",
        "\n",
        "Although age, ethnicity and gender are evenly matched between CKD patients and controls, I will keep these variables as they may allow a deeper understanding of other clinical variables.\n",
        "\n",
        "I will combine 'SocioeconomicStatus', 'EducationLevel' plus similar variable into an aggregate variable. "
      ]
    },
    {
      "cell_type": "markdown",
      "metadata": {},
      "source": [
        "Similarly, next I am going to loop through the other encoded categorical variables (except PatientID and those already covered) and group them by 'Diagnosis'. This will allow me to see whether the variable/ factor is overrepresented in CKD patients over controls. If they are not, I will aggregate similar variables into a summary score. "
      ]
    },
    {
      "cell_type": "code",
      "execution_count": 65,
      "metadata": {},
      "outputs": [
        {
          "data": {
            "text/plain": [
              "<Figure size 640x480 with 0 Axes>"
            ]
          },
          "metadata": {},
          "output_type": "display_data"
        },
        {
          "data": {
            "image/png": "[encoded data removed]",
            "text/plain": [
              "<Figure size 500x300 with 1 Axes>"
            ]
          },
          "metadata": {},
          "output_type": "display_data"
        },
        {
          "data": {
            "text/plain": [
              "<Figure size 640x480 with 0 Axes>"
            ]
          },
          "metadata": {},
          "output_type": "display_data"
        },
        {
          "data": {
            "image/png": "[encoded data removed]",
            "text/plain": [
              "<Figure size 500x300 with 1 Axes>"
            ]
          },
          "metadata": {},
          "output_type": "display_data"
        },
        {
          "data": {
            "text/plain": [
              "<Figure size 640x480 with 0 Axes>"
            ]
          },
          "metadata": {},
          "output_type": "display_data"
        },
        {
          "data": {
            "image/png": "[encoded data removed]",
            "text/plain": [
              "<Figure size 500x300 with 1 Axes>"
            ]
          },
          "metadata": {},
          "output_type": "display_data"
        },
        {
          "data": {
            "text/plain": [
              "<Figure size 640x480 with 0 Axes>"
            ]
          },
          "metadata": {},
          "output_type": "display_data"
        },
        {
          "data": {
            "image/png": "[encoded data removed]",
            "text/plain": [
              "<Figure size 500x300 with 1 Axes>"
            ]
          },
          "metadata": {},
          "output_type": "display_data"
        },
        {
          "data": {
            "text/plain": [
              "<Figure size 640x480 with 0 Axes>"
            ]
          },
          "metadata": {},
          "output_type": "display_data"
        },
        {
          "data": {
            "image/png": "[encoded data removed]",
            "text/plain": [
              "<Figure size 500x300 with 1 Axes>"
            ]
          },
          "metadata": {},
          "output_type": "display_data"
        },
        {
          "data": {
            "text/plain": [
              "<Figure size 640x480 with 0 Axes>"
            ]
          },
          "metadata": {},
          "output_type": "display_data"
        },
        {
          "data": {
            "image/png": "[encoded data removed]",
            "text/plain": [
              "<Figure size 500x300 with 1 Axes>"
            ]
          },
          "metadata": {},
          "output_type": "display_data"
        },
        {
          "data": {
            "text/plain": [
              "<Figure size 640x480 with 0 Axes>"
            ]
          },
          "metadata": {},
          "output_type": "display_data"
        },
        {
          "data": {
            "image/png": "[encoded data removed]",
            "text/plain": [
              "<Figure size 500x300 with 1 Axes>"
            ]
          },
          "metadata": {},
          "output_type": "display_data"
        },
        {
          "data": {
            "text/plain": [
              "<Figure size 640x480 with 0 Axes>"
            ]
          },
          "metadata": {},
          "output_type": "display_data"
        },
        {
          "data": {
            "image/png": "[encoded data removed]",
            "text/plain": [
              "<Figure size 500x300 with 1 Axes>"
            ]
          },
          "metadata": {},
          "output_type": "display_data"
        },
        {
          "data": {
            "text/plain": [
              "<Figure size 640x480 with 0 Axes>"
            ]
          },
          "metadata": {},
          "output_type": "display_data"
        },
        {
          "data": {
            "image/png": "[encoded data removed]",
            "text/plain": [
              "<Figure size 500x300 with 1 Axes>"
            ]
          },
          "metadata": {},
          "output_type": "display_data"
        },
        {
          "data": {
            "text/plain": [
              "<Figure size 640x480 with 0 Axes>"
            ]
          },
          "metadata": {},
          "output_type": "display_data"
        },
        {
          "data": {
            "image/png": "[encoded data removed]",
            "text/plain": [
              "<Figure size 500x300 with 1 Axes>"
            ]
          },
          "metadata": {},
          "output_type": "display_data"
        },
        {
          "data": {
            "text/plain": [
              "<Figure size 640x480 with 0 Axes>"
            ]
          },
          "metadata": {},
          "output_type": "display_data"
        },
        {
          "data": {
            "image/png": "[encoded data removed]",
            "text/plain": [
              "<Figure size 500x300 with 1 Axes>"
            ]
          },
          "metadata": {},
          "output_type": "display_data"
        },
        {
          "data": {
            "text/plain": [
              "<Figure size 640x480 with 0 Axes>"
            ]
          },
          "metadata": {},
          "output_type": "display_data"
        },
        {
          "data": {
            "image/png": "[encoded data removed]",
            "text/plain": [
              "<Figure size 500x300 with 1 Axes>"
            ]
          },
          "metadata": {},
          "output_type": "display_data"
        },
        {
          "data": {
            "text/plain": [
              "<Figure size 640x480 with 0 Axes>"
            ]
          },
          "metadata": {},
          "output_type": "display_data"
        },
        {
          "data": {
            "image/png": "[encoded data removed]",
            "text/plain": [
              "<Figure size 500x300 with 1 Axes>"
            ]
          },
          "metadata": {},
          "output_type": "display_data"
        },
        {
          "data": {
            "text/plain": [
              "<Figure size 640x480 with 0 Axes>"
            ]
          },
          "metadata": {},
          "output_type": "display_data"
        },
        {
          "data": {
            "image/png": "[encoded data removed]",
            "text/plain": [
              "<Figure size 500x300 with 1 Axes>"
            ]
          },
          "metadata": {},
          "output_type": "display_data"
        }
      ],
      "source": [
        "exclude_cols = ['Diagnosis', 'PatientID', 'Age', 'Gender', 'Ethnicity', 'SocioeconomicStatus', 'EducationLevel', 'SystolicBP', 'DiastolicBP']  # columns to skip\n",
        "int_cols = [c for c in df.select_dtypes(include='int').columns if c not in exclude_cols]\n",
        "\n",
        "for col in int_cols:\n",
        "    plt.figure()\n",
        "    (\n",
        "        df.groupby(['Diagnosis', col])\n",
        "        .size()\n",
        "        .unstack()\n",
        "        .apply(lambda x: x / x.sum() * 100, axis=1)\n",
        "        .plot(kind='bar', stacked=True, figsize=(5, 3))\n",
        "    )\n",
        "\n",
        "    plt.legend(title=col, fontsize=6, title_fontsize=6, loc='upper center', framealpha=0)\n",
        "    plt.gca().set_xticklabels(['Control', 'CKD'])\n",
        "    plt.xticks(fontsize=10, rotation=0)\n",
        "    plt.show()"
      ]
    },
    {
      "cell_type": "markdown",
      "metadata": {},
      "source": [
        "These results all suggest that the variable/ factor is not overrepresented in CKD patients. Therefore they will be aggregated with similar variable for a summary score."
      ]
    },
    {
      "cell_type": "markdown",
      "metadata": {},
      "source": [
        "Next, I would like to understand whether smokers are more likely to be CKD patients."
      ]
    },
    {
      "cell_type": "code",
      "execution_count": 37,
      "metadata": {},
      "outputs": [
        {
          "data": {
            "image/png": "[encoded data removed]",
            "text/plain": [
              "<Figure size 1000x400 with 1 Axes>"
            ]
          },
          "metadata": {},
          "output_type": "display_data"
        }
      ],
      "source": [
        "(\n",
        "    df.groupby(['Diagnosis','Smoking'])\n",
        ".size()\n",
        ".unstack()\n",
        ".apply(lambda x: x/x.sum()* 100, axis=1)\n",
        ".plot(kind='bar', stacked=True,figsize=(10,4))\n",
        ")\n",
        "plt.show()"
      ]
    },
    {
      "cell_type": "markdown",
      "metadata": {},
      "source": [
        "I believe this shows that smoking by itself is not a significant risk factor for CKD. I may drop this variable later. "
      ]
    },
    {
      "cell_type": "markdown",
      "metadata": {},
      "source": [
        "Next, I would like to see if those who consume higher levels of alcohol (units per week) are more likely to be CKD patients."
      ]
    },
    {
      "cell_type": "code",
      "execution_count": 45,
      "metadata": {},
      "outputs": [
        {
          "data": {
            "image/png": "[encoded data removed]",
            "text/plain": [
              "<Figure size 640x480 with 1 Axes>"
            ]
          },
          "metadata": {},
          "output_type": "display_data"
        }
      ],
      "source": [
        "plt.hist(df[df['Diagnosis'] == 0]['AlcoholConsumption'], bins=2, alpha=0.5, label='Diagnosis=0')\n",
        "plt.hist(df[df['Diagnosis'] == 1]['AlcoholConsumption'], bins=2, alpha=0.5, label='Diagnosis=1')\n",
        "\n",
        "plt.xlabel('Alcohol Consumption (U/Week)')\n",
        "plt.ylabel('Frequency')\n",
        "plt.title('Frequency of Alcohol Consumption')\n",
        "plt.legend()\n",
        "plt.show()"
      ]
    },
    {
      "cell_type": "markdown",
      "metadata": {},
      "source": [
        "I can see that CKD patients and controls are evenly matched in their weekly alcohol consumption. This means that I can drop both the 'Smoking' and 'AlcoholConsumption' variables in the DataFrame."
      ]
    },
    {
      "cell_type": "markdown",
      "metadata": {},
      "source": [
        "---"
      ]
    },
    {
      "cell_type": "markdown",
      "metadata": {},
      "source": [
        "## Transformations"
      ]
    },
    {
      "cell_type": "markdown",
      "metadata": {},
      "source": [
        "Due to the large number of columns/ variables in the original DataFrame, I am going to make a new DataFrame where some of the results are summarised. In order to do this, I am grouping similar type variables together to calculate aggregate scores. These aggregate variables will be:\n",
        "\n",
        "- ModRiskFactors - "
      ]
    },
    {
      "cell_type": "markdown",
      "metadata": {},
      "source": [
        "---"
      ]
    },
    {
      "cell_type": "markdown",
      "metadata": {},
      "source": [
        "NOTE"
      ]
    },
    {
      "cell_type": "markdown",
      "metadata": {},
      "source": [
        "* You may add as many sections as you want, as long as it supports your project workflow.\n",
        "* All notebook's cells should be run top-down (you can't create a dynamic wherein a given point you need to go back to a previous cell to execute some task, like go back to a previous cell and refresh a variable content)"
      ]
    },
    {
      "cell_type": "markdown",
      "metadata": {},
      "source": [
        "---"
      ]
    },
    {
      "cell_type": "markdown",
      "metadata": {
        "id": "ltNetd085qHf"
      },
      "source": [
        "# Push files to Repo"
      ]
    },
    {
      "cell_type": "markdown",
      "metadata": {},
      "source": [
        "* In cases where you don't need to push files to Repo, you may replace this section with \"Conclusions and Next Steps\" and state your conclusions and next steps."
      ]
    },
    {
      "cell_type": "code",
      "execution_count": null,
      "metadata": {
        "id": "aKlnIozA4eQO",
        "outputId": "fd09bc1f-adb1-4511-f6ce-492a6af570c0"
      },
      "outputs": [],
      "source": [
        "import os\n",
        "try:\n",
        "  # create your folder here\n",
        "  # os.makedirs(name='')\n",
        "except Exception as e:\n",
        "  print(e)\n"
      ]
    }
  ],
  "metadata": {
    "accelerator": "GPU",
    "colab": {
      "name": "Data Practitioner Jupyter Notebook.ipynb",
      "provenance": [],
      "toc_visible": true
    },
    "kernelspec": {
      "display_name": ".venv (3.12.8)",
      "language": "python",
      "name": "python3"
    },
    "language_info": {
      "codemirror_mode": {
        "name": "ipython",
        "version": 3
      },
      "file_extension": ".py",
      "mimetype": "text/x-python",
      "name": "python",
      "nbconvert_exporter": "python",
      "pygments_lexer": "ipython3",
      "version": "3.12.8"
    },
    "orig_nbformat": 2
  },
  "nbformat": 4,
  "nbformat_minor": 2
}
